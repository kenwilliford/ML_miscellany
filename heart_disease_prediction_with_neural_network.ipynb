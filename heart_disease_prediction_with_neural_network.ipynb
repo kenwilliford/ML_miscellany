{
  "cells": [
    {
      "cell_type": "markdown",
      "metadata": {
        "id": "view-in-github",
        "colab_type": "text"
      },
      "source": [
        "<a href=\"https://colab.research.google.com/github/kenwilliford/ML_miscellany/blob/main/heart_disease_prediction_with_neural_network.ipynb\" target=\"_parent\"><img src=\"https://colab.research.google.com/assets/colab-badge.svg\" alt=\"Open In Colab\"/></a>"
      ]
    },
    {
      "cell_type": "markdown",
      "metadata": {
        "id": "uZuGNXc58pgl"
      },
      "source": [
        "# Predicting heart disease with a neural network\n",
        "\n",
        "\n",
        "\n"
      ]
    },
    {
      "cell_type": "markdown",
      "metadata": {
        "id": "PTigfjFI8pgn"
      },
      "source": [
        "## Introduction\n",
        "\n",
        "This colab notebook builds and trains a neural network model for *binary classification*, when the dataset is *tabular* (rather than unstructured data like images or text) and has a mix of numeric and categorical features. Since tabular datasets are often made available in CSV files, the colab demonstrates the full CSV-to-trained-model workflow.\n",
        "\n",
        "\n",
        "\n",
        "\n",
        "### The dataset\n",
        "\n",
        "The dataset ([more background on the data](https://archive.ics.uci.edu/ml/datasets/heart+Disease)) has information on 303 patients, one in each row. Each column (i.e., feature) contains information on a particular attribute of the patient. The column named \"Target\" indicates if the patient has been diagnosed with heart disease or not and is the label (i.e., the dependent variable) that we want to predict using the other columns.\n",
        "\n",
        "Feature description (copied from [here](https://keras.io/examples/structured_data/structured_data_classification_from_scratch/)):\n",
        "\n",
        "Column| Description| Feature Type\n",
        "------------|--------------------|----------------------\n",
        "Age | Age in years | Numerical\n",
        "Sex | (1 = male; 0 = female) | Categorical\n",
        "CP | Chest pain type (0, 1, 2, 3, 4) | Categorical\n",
        "Trestbpd | Resting blood pressure (in mm Hg on admission) | Numerical\n",
        "Chol | Serum cholesterol in mg/dl | Numerical\n",
        "FBS | fasting blood sugar in 120 mg/dl (1 = true; 0 = false) | Categorical\n",
        "RestECG | Resting electrocardiogram results (0, 1, 2) | Categorical\n",
        "Thalach | Maximum heart rate achieved | Numerical\n",
        "Exang | Exercise induced angina (1 = yes; 0 = no) | Categorical\n",
        "Oldpeak | ST depression induced by exercise relative to rest | Numerical\n",
        "Slope | Slope of the peak exercise ST segment | Numerical\n",
        "CA | Number of major vessels (0-3) colored by fluoroscopy | Both numerical & categorical\n",
        "Thal | 3 = normal; 6 = fixed defect; 7 = reversible defect | Categorical\n",
        "Target | Diagnosis of heart disease (1 = true; 0 = false) | Target"
      ]
    },
    {
      "cell_type": "markdown",
      "metadata": {
        "id": "-7YELlPx8pgo"
      },
      "source": [
        "## Imports\n"
      ]
    },
    {
      "cell_type": "code",
      "execution_count": 1,
      "metadata": {
        "id": "oqhnaoXC8pgp"
      },
      "outputs": [],
      "source": [
        "import tensorflow as tf\n",
        "from tensorflow import keras\n",
        "import numpy as np\n",
        "import pandas as pd\n",
        "import matplotlib.pyplot as plt\n",
        "\n",
        "# initialize the seeds of different random number generators so that the\n",
        "# results will be the same every time the notebook is run\n",
        "keras.utils.set_random_seed(42)"
      ]
    },
    {
      "cell_type": "markdown",
      "metadata": {
        "id": "tRS8tSL-8pgp"
      },
      "source": [
        "## Read in the data\n",
        "\n",
        "Conveniently, the dataset in CSV form has been made available online (by [Francois Chollet](https://twitter.com/fchollet)) and we can load it into a Pandas dataframe with the very useful `pd.read_csv` command."
      ]
    },
    {
      "cell_type": "code",
      "execution_count": 2,
      "metadata": {
        "id": "UwIi1uXT8pgq"
      },
      "outputs": [],
      "source": [
        "df = pd.read_csv(\"http://storage.googleapis.com/download.tensorflow.org/data/heart.csv\")"
      ]
    },
    {
      "cell_type": "code",
      "execution_count": 3,
      "metadata": {
        "id": "y0gs3ULo8pgr",
        "colab": {
          "base_uri": "https://localhost:8080/"
        },
        "outputId": "c33adfcc-aa88-4034-fea1-ae4708179d7a"
      },
      "outputs": [
        {
          "output_type": "execute_result",
          "data": {
            "text/plain": [
              "(303, 14)"
            ]
          },
          "metadata": {},
          "execution_count": 3
        }
      ],
      "source": [
        "df.shape"
      ]
    },
    {
      "cell_type": "markdown",
      "metadata": {
        "id": "mWQPAk_R8pgq"
      },
      "source": [
        "The dataset has 303 rows and 14 columns (13 independent variables + 1 dependent variable):"
      ]
    },
    {
      "cell_type": "markdown",
      "metadata": {
        "id": "RV1UP8MN8pgr"
      },
      "source": [
        "Let's take a look at the first few rows:"
      ]
    },
    {
      "cell_type": "code",
      "execution_count": 4,
      "metadata": {
        "id": "-z8LPV1n8pgr",
        "colab": {
          "base_uri": "https://localhost:8080/",
          "height": 206
        },
        "outputId": "571eba40-52e4-472d-d4d7-b55c776bf452"
      },
      "outputs": [
        {
          "output_type": "execute_result",
          "data": {
            "text/plain": [
              "   age  sex  cp  trestbps  chol  fbs  restecg  thalach  exang  oldpeak  slope  \\\n",
              "0   63    1   1       145   233    1        2      150      0      2.3      3   \n",
              "1   67    1   4       160   286    0        2      108      1      1.5      2   \n",
              "2   67    1   4       120   229    0        2      129      1      2.6      2   \n",
              "3   37    1   3       130   250    0        0      187      0      3.5      3   \n",
              "4   41    0   2       130   204    0        2      172      0      1.4      1   \n",
              "\n",
              "   ca        thal  target  \n",
              "0   0       fixed       0  \n",
              "1   3      normal       1  \n",
              "2   2  reversible       0  \n",
              "3   0      normal       0  \n",
              "4   0      normal       0  "
            ],
            "text/html": [
              "\n",
              "  <div id=\"df-cf1e93e8-6563-426f-8f90-cfe477ce627f\" class=\"colab-df-container\">\n",
              "    <div>\n",
              "<style scoped>\n",
              "    .dataframe tbody tr th:only-of-type {\n",
              "        vertical-align: middle;\n",
              "    }\n",
              "\n",
              "    .dataframe tbody tr th {\n",
              "        vertical-align: top;\n",
              "    }\n",
              "\n",
              "    .dataframe thead th {\n",
              "        text-align: right;\n",
              "    }\n",
              "</style>\n",
              "<table border=\"1\" class=\"dataframe\">\n",
              "  <thead>\n",
              "    <tr style=\"text-align: right;\">\n",
              "      <th></th>\n",
              "      <th>age</th>\n",
              "      <th>sex</th>\n",
              "      <th>cp</th>\n",
              "      <th>trestbps</th>\n",
              "      <th>chol</th>\n",
              "      <th>fbs</th>\n",
              "      <th>restecg</th>\n",
              "      <th>thalach</th>\n",
              "      <th>exang</th>\n",
              "      <th>oldpeak</th>\n",
              "      <th>slope</th>\n",
              "      <th>ca</th>\n",
              "      <th>thal</th>\n",
              "      <th>target</th>\n",
              "    </tr>\n",
              "  </thead>\n",
              "  <tbody>\n",
              "    <tr>\n",
              "      <th>0</th>\n",
              "      <td>63</td>\n",
              "      <td>1</td>\n",
              "      <td>1</td>\n",
              "      <td>145</td>\n",
              "      <td>233</td>\n",
              "      <td>1</td>\n",
              "      <td>2</td>\n",
              "      <td>150</td>\n",
              "      <td>0</td>\n",
              "      <td>2.3</td>\n",
              "      <td>3</td>\n",
              "      <td>0</td>\n",
              "      <td>fixed</td>\n",
              "      <td>0</td>\n",
              "    </tr>\n",
              "    <tr>\n",
              "      <th>1</th>\n",
              "      <td>67</td>\n",
              "      <td>1</td>\n",
              "      <td>4</td>\n",
              "      <td>160</td>\n",
              "      <td>286</td>\n",
              "      <td>0</td>\n",
              "      <td>2</td>\n",
              "      <td>108</td>\n",
              "      <td>1</td>\n",
              "      <td>1.5</td>\n",
              "      <td>2</td>\n",
              "      <td>3</td>\n",
              "      <td>normal</td>\n",
              "      <td>1</td>\n",
              "    </tr>\n",
              "    <tr>\n",
              "      <th>2</th>\n",
              "      <td>67</td>\n",
              "      <td>1</td>\n",
              "      <td>4</td>\n",
              "      <td>120</td>\n",
              "      <td>229</td>\n",
              "      <td>0</td>\n",
              "      <td>2</td>\n",
              "      <td>129</td>\n",
              "      <td>1</td>\n",
              "      <td>2.6</td>\n",
              "      <td>2</td>\n",
              "      <td>2</td>\n",
              "      <td>reversible</td>\n",
              "      <td>0</td>\n",
              "    </tr>\n",
              "    <tr>\n",
              "      <th>3</th>\n",
              "      <td>37</td>\n",
              "      <td>1</td>\n",
              "      <td>3</td>\n",
              "      <td>130</td>\n",
              "      <td>250</td>\n",
              "      <td>0</td>\n",
              "      <td>0</td>\n",
              "      <td>187</td>\n",
              "      <td>0</td>\n",
              "      <td>3.5</td>\n",
              "      <td>3</td>\n",
              "      <td>0</td>\n",
              "      <td>normal</td>\n",
              "      <td>0</td>\n",
              "    </tr>\n",
              "    <tr>\n",
              "      <th>4</th>\n",
              "      <td>41</td>\n",
              "      <td>0</td>\n",
              "      <td>2</td>\n",
              "      <td>130</td>\n",
              "      <td>204</td>\n",
              "      <td>0</td>\n",
              "      <td>2</td>\n",
              "      <td>172</td>\n",
              "      <td>0</td>\n",
              "      <td>1.4</td>\n",
              "      <td>1</td>\n",
              "      <td>0</td>\n",
              "      <td>normal</td>\n",
              "      <td>0</td>\n",
              "    </tr>\n",
              "  </tbody>\n",
              "</table>\n",
              "</div>\n",
              "    <div class=\"colab-df-buttons\">\n",
              "\n",
              "  <div class=\"colab-df-container\">\n",
              "    <button class=\"colab-df-convert\" onclick=\"convertToInteractive('df-cf1e93e8-6563-426f-8f90-cfe477ce627f')\"\n",
              "            title=\"Convert this dataframe to an interactive table.\"\n",
              "            style=\"display:none;\">\n",
              "\n",
              "  <svg xmlns=\"http://www.w3.org/2000/svg\" height=\"24px\" viewBox=\"0 -960 960 960\">\n",
              "    <path d=\"M120-120v-720h720v720H120Zm60-500h600v-160H180v160Zm220 220h160v-160H400v160Zm0 220h160v-160H400v160ZM180-400h160v-160H180v160Zm440 0h160v-160H620v160ZM180-180h160v-160H180v160Zm440 0h160v-160H620v160Z\"/>\n",
              "  </svg>\n",
              "    </button>\n",
              "\n",
              "  <style>\n",
              "    .colab-df-container {\n",
              "      display:flex;\n",
              "      gap: 12px;\n",
              "    }\n",
              "\n",
              "    .colab-df-convert {\n",
              "      background-color: #E8F0FE;\n",
              "      border: none;\n",
              "      border-radius: 50%;\n",
              "      cursor: pointer;\n",
              "      display: none;\n",
              "      fill: #1967D2;\n",
              "      height: 32px;\n",
              "      padding: 0 0 0 0;\n",
              "      width: 32px;\n",
              "    }\n",
              "\n",
              "    .colab-df-convert:hover {\n",
              "      background-color: #E2EBFA;\n",
              "      box-shadow: 0px 1px 2px rgba(60, 64, 67, 0.3), 0px 1px 3px 1px rgba(60, 64, 67, 0.15);\n",
              "      fill: #174EA6;\n",
              "    }\n",
              "\n",
              "    .colab-df-buttons div {\n",
              "      margin-bottom: 4px;\n",
              "    }\n",
              "\n",
              "    [theme=dark] .colab-df-convert {\n",
              "      background-color: #3B4455;\n",
              "      fill: #D2E3FC;\n",
              "    }\n",
              "\n",
              "    [theme=dark] .colab-df-convert:hover {\n",
              "      background-color: #434B5C;\n",
              "      box-shadow: 0px 1px 3px 1px rgba(0, 0, 0, 0.15);\n",
              "      filter: drop-shadow(0px 1px 2px rgba(0, 0, 0, 0.3));\n",
              "      fill: #FFFFFF;\n",
              "    }\n",
              "  </style>\n",
              "\n",
              "    <script>\n",
              "      const buttonEl =\n",
              "        document.querySelector('#df-cf1e93e8-6563-426f-8f90-cfe477ce627f button.colab-df-convert');\n",
              "      buttonEl.style.display =\n",
              "        google.colab.kernel.accessAllowed ? 'block' : 'none';\n",
              "\n",
              "      async function convertToInteractive(key) {\n",
              "        const element = document.querySelector('#df-cf1e93e8-6563-426f-8f90-cfe477ce627f');\n",
              "        const dataTable =\n",
              "          await google.colab.kernel.invokeFunction('convertToInteractive',\n",
              "                                                    [key], {});\n",
              "        if (!dataTable) return;\n",
              "\n",
              "        const docLinkHtml = 'Like what you see? Visit the ' +\n",
              "          '<a target=\"_blank\" href=https://colab.research.google.com/notebooks/data_table.ipynb>data table notebook</a>'\n",
              "          + ' to learn more about interactive tables.';\n",
              "        element.innerHTML = '';\n",
              "        dataTable['output_type'] = 'display_data';\n",
              "        await google.colab.output.renderOutput(dataTable, element);\n",
              "        const docLink = document.createElement('div');\n",
              "        docLink.innerHTML = docLinkHtml;\n",
              "        element.appendChild(docLink);\n",
              "      }\n",
              "    </script>\n",
              "  </div>\n",
              "\n",
              "\n",
              "<div id=\"df-0ae5ac68-14ad-4026-9c22-176a779eee8c\">\n",
              "  <button class=\"colab-df-quickchart\" onclick=\"quickchart('df-0ae5ac68-14ad-4026-9c22-176a779eee8c')\"\n",
              "            title=\"Suggest charts\"\n",
              "            style=\"display:none;\">\n",
              "\n",
              "<svg xmlns=\"http://www.w3.org/2000/svg\" height=\"24px\"viewBox=\"0 0 24 24\"\n",
              "     width=\"24px\">\n",
              "    <g>\n",
              "        <path d=\"M19 3H5c-1.1 0-2 .9-2 2v14c0 1.1.9 2 2 2h14c1.1 0 2-.9 2-2V5c0-1.1-.9-2-2-2zM9 17H7v-7h2v7zm4 0h-2V7h2v10zm4 0h-2v-4h2v4z\"/>\n",
              "    </g>\n",
              "</svg>\n",
              "  </button>\n",
              "\n",
              "<style>\n",
              "  .colab-df-quickchart {\n",
              "      --bg-color: #E8F0FE;\n",
              "      --fill-color: #1967D2;\n",
              "      --hover-bg-color: #E2EBFA;\n",
              "      --hover-fill-color: #174EA6;\n",
              "      --disabled-fill-color: #AAA;\n",
              "      --disabled-bg-color: #DDD;\n",
              "  }\n",
              "\n",
              "  [theme=dark] .colab-df-quickchart {\n",
              "      --bg-color: #3B4455;\n",
              "      --fill-color: #D2E3FC;\n",
              "      --hover-bg-color: #434B5C;\n",
              "      --hover-fill-color: #FFFFFF;\n",
              "      --disabled-bg-color: #3B4455;\n",
              "      --disabled-fill-color: #666;\n",
              "  }\n",
              "\n",
              "  .colab-df-quickchart {\n",
              "    background-color: var(--bg-color);\n",
              "    border: none;\n",
              "    border-radius: 50%;\n",
              "    cursor: pointer;\n",
              "    display: none;\n",
              "    fill: var(--fill-color);\n",
              "    height: 32px;\n",
              "    padding: 0;\n",
              "    width: 32px;\n",
              "  }\n",
              "\n",
              "  .colab-df-quickchart:hover {\n",
              "    background-color: var(--hover-bg-color);\n",
              "    box-shadow: 0 1px 2px rgba(60, 64, 67, 0.3), 0 1px 3px 1px rgba(60, 64, 67, 0.15);\n",
              "    fill: var(--button-hover-fill-color);\n",
              "  }\n",
              "\n",
              "  .colab-df-quickchart-complete:disabled,\n",
              "  .colab-df-quickchart-complete:disabled:hover {\n",
              "    background-color: var(--disabled-bg-color);\n",
              "    fill: var(--disabled-fill-color);\n",
              "    box-shadow: none;\n",
              "  }\n",
              "\n",
              "  .colab-df-spinner {\n",
              "    border: 2px solid var(--fill-color);\n",
              "    border-color: transparent;\n",
              "    border-bottom-color: var(--fill-color);\n",
              "    animation:\n",
              "      spin 1s steps(1) infinite;\n",
              "  }\n",
              "\n",
              "  @keyframes spin {\n",
              "    0% {\n",
              "      border-color: transparent;\n",
              "      border-bottom-color: var(--fill-color);\n",
              "      border-left-color: var(--fill-color);\n",
              "    }\n",
              "    20% {\n",
              "      border-color: transparent;\n",
              "      border-left-color: var(--fill-color);\n",
              "      border-top-color: var(--fill-color);\n",
              "    }\n",
              "    30% {\n",
              "      border-color: transparent;\n",
              "      border-left-color: var(--fill-color);\n",
              "      border-top-color: var(--fill-color);\n",
              "      border-right-color: var(--fill-color);\n",
              "    }\n",
              "    40% {\n",
              "      border-color: transparent;\n",
              "      border-right-color: var(--fill-color);\n",
              "      border-top-color: var(--fill-color);\n",
              "    }\n",
              "    60% {\n",
              "      border-color: transparent;\n",
              "      border-right-color: var(--fill-color);\n",
              "    }\n",
              "    80% {\n",
              "      border-color: transparent;\n",
              "      border-right-color: var(--fill-color);\n",
              "      border-bottom-color: var(--fill-color);\n",
              "    }\n",
              "    90% {\n",
              "      border-color: transparent;\n",
              "      border-bottom-color: var(--fill-color);\n",
              "    }\n",
              "  }\n",
              "</style>\n",
              "\n",
              "  <script>\n",
              "    async function quickchart(key) {\n",
              "      const quickchartButtonEl =\n",
              "        document.querySelector('#' + key + ' button');\n",
              "      quickchartButtonEl.disabled = true;  // To prevent multiple clicks.\n",
              "      quickchartButtonEl.classList.add('colab-df-spinner');\n",
              "      try {\n",
              "        const charts = await google.colab.kernel.invokeFunction(\n",
              "            'suggestCharts', [key], {});\n",
              "      } catch (error) {\n",
              "        console.error('Error during call to suggestCharts:', error);\n",
              "      }\n",
              "      quickchartButtonEl.classList.remove('colab-df-spinner');\n",
              "      quickchartButtonEl.classList.add('colab-df-quickchart-complete');\n",
              "    }\n",
              "    (() => {\n",
              "      let quickchartButtonEl =\n",
              "        document.querySelector('#df-0ae5ac68-14ad-4026-9c22-176a779eee8c button');\n",
              "      quickchartButtonEl.style.display =\n",
              "        google.colab.kernel.accessAllowed ? 'block' : 'none';\n",
              "    })();\n",
              "  </script>\n",
              "</div>\n",
              "\n",
              "    </div>\n",
              "  </div>\n"
            ],
            "application/vnd.google.colaboratory.intrinsic+json": {
              "type": "dataframe",
              "variable_name": "df",
              "summary": "{\n  \"name\": \"df\",\n  \"rows\": 303,\n  \"fields\": [\n    {\n      \"column\": \"age\",\n      \"properties\": {\n        \"dtype\": \"number\",\n        \"std\": 9,\n        \"min\": 29,\n        \"max\": 77,\n        \"num_unique_values\": 41,\n        \"samples\": [\n          61,\n          64,\n          44\n        ],\n        \"semantic_type\": \"\",\n        \"description\": \"\"\n      }\n    },\n    {\n      \"column\": \"sex\",\n      \"properties\": {\n        \"dtype\": \"number\",\n        \"std\": 0,\n        \"min\": 0,\n        \"max\": 1,\n        \"num_unique_values\": 2,\n        \"samples\": [\n          0,\n          1\n        ],\n        \"semantic_type\": \"\",\n        \"description\": \"\"\n      }\n    },\n    {\n      \"column\": \"cp\",\n      \"properties\": {\n        \"dtype\": \"number\",\n        \"std\": 1,\n        \"min\": 0,\n        \"max\": 4,\n        \"num_unique_values\": 5,\n        \"samples\": [\n          4,\n          0\n        ],\n        \"semantic_type\": \"\",\n        \"description\": \"\"\n      }\n    },\n    {\n      \"column\": \"trestbps\",\n      \"properties\": {\n        \"dtype\": \"number\",\n        \"std\": 17,\n        \"min\": 94,\n        \"max\": 200,\n        \"num_unique_values\": 50,\n        \"samples\": [\n          104,\n          192\n        ],\n        \"semantic_type\": \"\",\n        \"description\": \"\"\n      }\n    },\n    {\n      \"column\": \"chol\",\n      \"properties\": {\n        \"dtype\": \"number\",\n        \"std\": 52,\n        \"min\": 126,\n        \"max\": 564,\n        \"num_unique_values\": 152,\n        \"samples\": [\n          261,\n          182\n        ],\n        \"semantic_type\": \"\",\n        \"description\": \"\"\n      }\n    },\n    {\n      \"column\": \"fbs\",\n      \"properties\": {\n        \"dtype\": \"number\",\n        \"std\": 0,\n        \"min\": 0,\n        \"max\": 1,\n        \"num_unique_values\": 2,\n        \"samples\": [\n          0,\n          1\n        ],\n        \"semantic_type\": \"\",\n        \"description\": \"\"\n      }\n    },\n    {\n      \"column\": \"restecg\",\n      \"properties\": {\n        \"dtype\": \"number\",\n        \"std\": 0,\n        \"min\": 0,\n        \"max\": 2,\n        \"num_unique_values\": 3,\n        \"samples\": [\n          2,\n          0\n        ],\n        \"semantic_type\": \"\",\n        \"description\": \"\"\n      }\n    },\n    {\n      \"column\": \"thalach\",\n      \"properties\": {\n        \"dtype\": \"number\",\n        \"std\": 23,\n        \"min\": 71,\n        \"max\": 202,\n        \"num_unique_values\": 91,\n        \"samples\": [\n          175,\n          114\n        ],\n        \"semantic_type\": \"\",\n        \"description\": \"\"\n      }\n    },\n    {\n      \"column\": \"exang\",\n      \"properties\": {\n        \"dtype\": \"number\",\n        \"std\": 0,\n        \"min\": 0,\n        \"max\": 1,\n        \"num_unique_values\": 2,\n        \"samples\": [\n          1,\n          0\n        ],\n        \"semantic_type\": \"\",\n        \"description\": \"\"\n      }\n    },\n    {\n      \"column\": \"oldpeak\",\n      \"properties\": {\n        \"dtype\": \"number\",\n        \"std\": 1.1650246194814895,\n        \"min\": 0.0,\n        \"max\": 6.2,\n        \"num_unique_values\": 40,\n        \"samples\": [\n          2.4,\n          0.2\n        ],\n        \"semantic_type\": \"\",\n        \"description\": \"\"\n      }\n    },\n    {\n      \"column\": \"slope\",\n      \"properties\": {\n        \"dtype\": \"number\",\n        \"std\": 0,\n        \"min\": 1,\n        \"max\": 3,\n        \"num_unique_values\": 3,\n        \"samples\": [\n          3,\n          2\n        ],\n        \"semantic_type\": \"\",\n        \"description\": \"\"\n      }\n    },\n    {\n      \"column\": \"ca\",\n      \"properties\": {\n        \"dtype\": \"number\",\n        \"std\": 0,\n        \"min\": 0,\n        \"max\": 3,\n        \"num_unique_values\": 4,\n        \"samples\": [\n          3,\n          1\n        ],\n        \"semantic_type\": \"\",\n        \"description\": \"\"\n      }\n    },\n    {\n      \"column\": \"thal\",\n      \"properties\": {\n        \"dtype\": \"category\",\n        \"num_unique_values\": 5,\n        \"samples\": [\n          \"normal\",\n          \"2\"\n        ],\n        \"semantic_type\": \"\",\n        \"description\": \"\"\n      }\n    },\n    {\n      \"column\": \"target\",\n      \"properties\": {\n        \"dtype\": \"number\",\n        \"std\": 0,\n        \"min\": 0,\n        \"max\": 1,\n        \"num_unique_values\": 2,\n        \"samples\": [\n          1,\n          0\n        ],\n        \"semantic_type\": \"\",\n        \"description\": \"\"\n      }\n    }\n  ]\n}"
            }
          },
          "metadata": {},
          "execution_count": 4
        }
      ],
      "source": [
        "df.head()"
      ]
    },
    {
      "cell_type": "markdown",
      "metadata": {
        "id": "Tp9o9bm58pgu"
      },
      "source": [
        "## Preprocessing\n",
        "\n",
        "This dataset has both categorical variables and numeric variables.\n",
        "\n",
        "We'd like to preprocess them as follows:\n",
        "- *one-hot encode* the categorical variables\n",
        "- *normalize* the numeric variables\n",
        "\n",
        "It will be convenient (for later processing) to collect these groups of variables into two lists."
      ]
    },
    {
      "cell_type": "code",
      "source": [
        "categorical_variables = ['sex', 'cp', 'fbs', 'restecg','exang', 'ca', 'thal']\n",
        "numerics = ['age', 'trestbps','chol', 'thalach', 'oldpeak', 'slope']"
      ],
      "metadata": {
        "id": "sY6ASs0BTlUh"
      },
      "execution_count": 5,
      "outputs": []
    },
    {
      "cell_type": "markdown",
      "source": [
        "\n",
        "With the pandas `get_dummies` function, you can one-hot-encode in one line.\n"
      ],
      "metadata": {
        "id": "_y45-rf-ZdOp"
      }
    },
    {
      "cell_type": "code",
      "source": [
        "df = pd.get_dummies(df, columns = categorical_variables)"
      ],
      "metadata": {
        "id": "8rOCggp2Tius"
      },
      "execution_count": 6,
      "outputs": []
    },
    {
      "cell_type": "code",
      "source": [
        "df.head()"
      ],
      "metadata": {
        "colab": {
          "base_uri": "https://localhost:8080/",
          "height": 236
        },
        "id": "iEeCwpvQfilR",
        "outputId": "febcafab-fd69-417f-e2c2-5395fe3654bf"
      },
      "execution_count": 7,
      "outputs": [
        {
          "output_type": "execute_result",
          "data": {
            "text/plain": [
              "   age  trestbps  chol  thalach  oldpeak  slope  target  sex_0  sex_1  cp_0  \\\n",
              "0   63       145   233      150      2.3      3       0      0      1     0   \n",
              "1   67       160   286      108      1.5      2       1      0      1     0   \n",
              "2   67       120   229      129      2.6      2       0      0      1     0   \n",
              "3   37       130   250      187      3.5      3       0      0      1     0   \n",
              "4   41       130   204      172      1.4      1       0      1      0     0   \n",
              "\n",
              "   ...  exang_1  ca_0  ca_1  ca_2  ca_3  thal_1  thal_2  thal_fixed  \\\n",
              "0  ...        0     1     0     0     0       0       0           1   \n",
              "1  ...        1     0     0     0     1       0       0           0   \n",
              "2  ...        1     0     0     1     0       0       0           0   \n",
              "3  ...        0     1     0     0     0       0       0           0   \n",
              "4  ...        0     1     0     0     0       0       0           0   \n",
              "\n",
              "   thal_normal  thal_reversible  \n",
              "0            0                0  \n",
              "1            1                0  \n",
              "2            0                1  \n",
              "3            1                0  \n",
              "4            1                0  \n",
              "\n",
              "[5 rows x 30 columns]"
            ],
            "text/html": [
              "\n",
              "  <div id=\"df-53dbd254-0fe0-420d-a3d7-6c10552edb99\" class=\"colab-df-container\">\n",
              "    <div>\n",
              "<style scoped>\n",
              "    .dataframe tbody tr th:only-of-type {\n",
              "        vertical-align: middle;\n",
              "    }\n",
              "\n",
              "    .dataframe tbody tr th {\n",
              "        vertical-align: top;\n",
              "    }\n",
              "\n",
              "    .dataframe thead th {\n",
              "        text-align: right;\n",
              "    }\n",
              "</style>\n",
              "<table border=\"1\" class=\"dataframe\">\n",
              "  <thead>\n",
              "    <tr style=\"text-align: right;\">\n",
              "      <th></th>\n",
              "      <th>age</th>\n",
              "      <th>trestbps</th>\n",
              "      <th>chol</th>\n",
              "      <th>thalach</th>\n",
              "      <th>oldpeak</th>\n",
              "      <th>slope</th>\n",
              "      <th>target</th>\n",
              "      <th>sex_0</th>\n",
              "      <th>sex_1</th>\n",
              "      <th>cp_0</th>\n",
              "      <th>...</th>\n",
              "      <th>exang_1</th>\n",
              "      <th>ca_0</th>\n",
              "      <th>ca_1</th>\n",
              "      <th>ca_2</th>\n",
              "      <th>ca_3</th>\n",
              "      <th>thal_1</th>\n",
              "      <th>thal_2</th>\n",
              "      <th>thal_fixed</th>\n",
              "      <th>thal_normal</th>\n",
              "      <th>thal_reversible</th>\n",
              "    </tr>\n",
              "  </thead>\n",
              "  <tbody>\n",
              "    <tr>\n",
              "      <th>0</th>\n",
              "      <td>63</td>\n",
              "      <td>145</td>\n",
              "      <td>233</td>\n",
              "      <td>150</td>\n",
              "      <td>2.3</td>\n",
              "      <td>3</td>\n",
              "      <td>0</td>\n",
              "      <td>0</td>\n",
              "      <td>1</td>\n",
              "      <td>0</td>\n",
              "      <td>...</td>\n",
              "      <td>0</td>\n",
              "      <td>1</td>\n",
              "      <td>0</td>\n",
              "      <td>0</td>\n",
              "      <td>0</td>\n",
              "      <td>0</td>\n",
              "      <td>0</td>\n",
              "      <td>1</td>\n",
              "      <td>0</td>\n",
              "      <td>0</td>\n",
              "    </tr>\n",
              "    <tr>\n",
              "      <th>1</th>\n",
              "      <td>67</td>\n",
              "      <td>160</td>\n",
              "      <td>286</td>\n",
              "      <td>108</td>\n",
              "      <td>1.5</td>\n",
              "      <td>2</td>\n",
              "      <td>1</td>\n",
              "      <td>0</td>\n",
              "      <td>1</td>\n",
              "      <td>0</td>\n",
              "      <td>...</td>\n",
              "      <td>1</td>\n",
              "      <td>0</td>\n",
              "      <td>0</td>\n",
              "      <td>0</td>\n",
              "      <td>1</td>\n",
              "      <td>0</td>\n",
              "      <td>0</td>\n",
              "      <td>0</td>\n",
              "      <td>1</td>\n",
              "      <td>0</td>\n",
              "    </tr>\n",
              "    <tr>\n",
              "      <th>2</th>\n",
              "      <td>67</td>\n",
              "      <td>120</td>\n",
              "      <td>229</td>\n",
              "      <td>129</td>\n",
              "      <td>2.6</td>\n",
              "      <td>2</td>\n",
              "      <td>0</td>\n",
              "      <td>0</td>\n",
              "      <td>1</td>\n",
              "      <td>0</td>\n",
              "      <td>...</td>\n",
              "      <td>1</td>\n",
              "      <td>0</td>\n",
              "      <td>0</td>\n",
              "      <td>1</td>\n",
              "      <td>0</td>\n",
              "      <td>0</td>\n",
              "      <td>0</td>\n",
              "      <td>0</td>\n",
              "      <td>0</td>\n",
              "      <td>1</td>\n",
              "    </tr>\n",
              "    <tr>\n",
              "      <th>3</th>\n",
              "      <td>37</td>\n",
              "      <td>130</td>\n",
              "      <td>250</td>\n",
              "      <td>187</td>\n",
              "      <td>3.5</td>\n",
              "      <td>3</td>\n",
              "      <td>0</td>\n",
              "      <td>0</td>\n",
              "      <td>1</td>\n",
              "      <td>0</td>\n",
              "      <td>...</td>\n",
              "      <td>0</td>\n",
              "      <td>1</td>\n",
              "      <td>0</td>\n",
              "      <td>0</td>\n",
              "      <td>0</td>\n",
              "      <td>0</td>\n",
              "      <td>0</td>\n",
              "      <td>0</td>\n",
              "      <td>1</td>\n",
              "      <td>0</td>\n",
              "    </tr>\n",
              "    <tr>\n",
              "      <th>4</th>\n",
              "      <td>41</td>\n",
              "      <td>130</td>\n",
              "      <td>204</td>\n",
              "      <td>172</td>\n",
              "      <td>1.4</td>\n",
              "      <td>1</td>\n",
              "      <td>0</td>\n",
              "      <td>1</td>\n",
              "      <td>0</td>\n",
              "      <td>0</td>\n",
              "      <td>...</td>\n",
              "      <td>0</td>\n",
              "      <td>1</td>\n",
              "      <td>0</td>\n",
              "      <td>0</td>\n",
              "      <td>0</td>\n",
              "      <td>0</td>\n",
              "      <td>0</td>\n",
              "      <td>0</td>\n",
              "      <td>1</td>\n",
              "      <td>0</td>\n",
              "    </tr>\n",
              "  </tbody>\n",
              "</table>\n",
              "<p>5 rows × 30 columns</p>\n",
              "</div>\n",
              "    <div class=\"colab-df-buttons\">\n",
              "\n",
              "  <div class=\"colab-df-container\">\n",
              "    <button class=\"colab-df-convert\" onclick=\"convertToInteractive('df-53dbd254-0fe0-420d-a3d7-6c10552edb99')\"\n",
              "            title=\"Convert this dataframe to an interactive table.\"\n",
              "            style=\"display:none;\">\n",
              "\n",
              "  <svg xmlns=\"http://www.w3.org/2000/svg\" height=\"24px\" viewBox=\"0 -960 960 960\">\n",
              "    <path d=\"M120-120v-720h720v720H120Zm60-500h600v-160H180v160Zm220 220h160v-160H400v160Zm0 220h160v-160H400v160ZM180-400h160v-160H180v160Zm440 0h160v-160H620v160ZM180-180h160v-160H180v160Zm440 0h160v-160H620v160Z\"/>\n",
              "  </svg>\n",
              "    </button>\n",
              "\n",
              "  <style>\n",
              "    .colab-df-container {\n",
              "      display:flex;\n",
              "      gap: 12px;\n",
              "    }\n",
              "\n",
              "    .colab-df-convert {\n",
              "      background-color: #E8F0FE;\n",
              "      border: none;\n",
              "      border-radius: 50%;\n",
              "      cursor: pointer;\n",
              "      display: none;\n",
              "      fill: #1967D2;\n",
              "      height: 32px;\n",
              "      padding: 0 0 0 0;\n",
              "      width: 32px;\n",
              "    }\n",
              "\n",
              "    .colab-df-convert:hover {\n",
              "      background-color: #E2EBFA;\n",
              "      box-shadow: 0px 1px 2px rgba(60, 64, 67, 0.3), 0px 1px 3px 1px rgba(60, 64, 67, 0.15);\n",
              "      fill: #174EA6;\n",
              "    }\n",
              "\n",
              "    .colab-df-buttons div {\n",
              "      margin-bottom: 4px;\n",
              "    }\n",
              "\n",
              "    [theme=dark] .colab-df-convert {\n",
              "      background-color: #3B4455;\n",
              "      fill: #D2E3FC;\n",
              "    }\n",
              "\n",
              "    [theme=dark] .colab-df-convert:hover {\n",
              "      background-color: #434B5C;\n",
              "      box-shadow: 0px 1px 3px 1px rgba(0, 0, 0, 0.15);\n",
              "      filter: drop-shadow(0px 1px 2px rgba(0, 0, 0, 0.3));\n",
              "      fill: #FFFFFF;\n",
              "    }\n",
              "  </style>\n",
              "\n",
              "    <script>\n",
              "      const buttonEl =\n",
              "        document.querySelector('#df-53dbd254-0fe0-420d-a3d7-6c10552edb99 button.colab-df-convert');\n",
              "      buttonEl.style.display =\n",
              "        google.colab.kernel.accessAllowed ? 'block' : 'none';\n",
              "\n",
              "      async function convertToInteractive(key) {\n",
              "        const element = document.querySelector('#df-53dbd254-0fe0-420d-a3d7-6c10552edb99');\n",
              "        const dataTable =\n",
              "          await google.colab.kernel.invokeFunction('convertToInteractive',\n",
              "                                                    [key], {});\n",
              "        if (!dataTable) return;\n",
              "\n",
              "        const docLinkHtml = 'Like what you see? Visit the ' +\n",
              "          '<a target=\"_blank\" href=https://colab.research.google.com/notebooks/data_table.ipynb>data table notebook</a>'\n",
              "          + ' to learn more about interactive tables.';\n",
              "        element.innerHTML = '';\n",
              "        dataTable['output_type'] = 'display_data';\n",
              "        await google.colab.output.renderOutput(dataTable, element);\n",
              "        const docLink = document.createElement('div');\n",
              "        docLink.innerHTML = docLinkHtml;\n",
              "        element.appendChild(docLink);\n",
              "      }\n",
              "    </script>\n",
              "  </div>\n",
              "\n",
              "\n",
              "<div id=\"df-4b299e71-2aba-4816-8bb4-114783a18643\">\n",
              "  <button class=\"colab-df-quickchart\" onclick=\"quickchart('df-4b299e71-2aba-4816-8bb4-114783a18643')\"\n",
              "            title=\"Suggest charts\"\n",
              "            style=\"display:none;\">\n",
              "\n",
              "<svg xmlns=\"http://www.w3.org/2000/svg\" height=\"24px\"viewBox=\"0 0 24 24\"\n",
              "     width=\"24px\">\n",
              "    <g>\n",
              "        <path d=\"M19 3H5c-1.1 0-2 .9-2 2v14c0 1.1.9 2 2 2h14c1.1 0 2-.9 2-2V5c0-1.1-.9-2-2-2zM9 17H7v-7h2v7zm4 0h-2V7h2v10zm4 0h-2v-4h2v4z\"/>\n",
              "    </g>\n",
              "</svg>\n",
              "  </button>\n",
              "\n",
              "<style>\n",
              "  .colab-df-quickchart {\n",
              "      --bg-color: #E8F0FE;\n",
              "      --fill-color: #1967D2;\n",
              "      --hover-bg-color: #E2EBFA;\n",
              "      --hover-fill-color: #174EA6;\n",
              "      --disabled-fill-color: #AAA;\n",
              "      --disabled-bg-color: #DDD;\n",
              "  }\n",
              "\n",
              "  [theme=dark] .colab-df-quickchart {\n",
              "      --bg-color: #3B4455;\n",
              "      --fill-color: #D2E3FC;\n",
              "      --hover-bg-color: #434B5C;\n",
              "      --hover-fill-color: #FFFFFF;\n",
              "      --disabled-bg-color: #3B4455;\n",
              "      --disabled-fill-color: #666;\n",
              "  }\n",
              "\n",
              "  .colab-df-quickchart {\n",
              "    background-color: var(--bg-color);\n",
              "    border: none;\n",
              "    border-radius: 50%;\n",
              "    cursor: pointer;\n",
              "    display: none;\n",
              "    fill: var(--fill-color);\n",
              "    height: 32px;\n",
              "    padding: 0;\n",
              "    width: 32px;\n",
              "  }\n",
              "\n",
              "  .colab-df-quickchart:hover {\n",
              "    background-color: var(--hover-bg-color);\n",
              "    box-shadow: 0 1px 2px rgba(60, 64, 67, 0.3), 0 1px 3px 1px rgba(60, 64, 67, 0.15);\n",
              "    fill: var(--button-hover-fill-color);\n",
              "  }\n",
              "\n",
              "  .colab-df-quickchart-complete:disabled,\n",
              "  .colab-df-quickchart-complete:disabled:hover {\n",
              "    background-color: var(--disabled-bg-color);\n",
              "    fill: var(--disabled-fill-color);\n",
              "    box-shadow: none;\n",
              "  }\n",
              "\n",
              "  .colab-df-spinner {\n",
              "    border: 2px solid var(--fill-color);\n",
              "    border-color: transparent;\n",
              "    border-bottom-color: var(--fill-color);\n",
              "    animation:\n",
              "      spin 1s steps(1) infinite;\n",
              "  }\n",
              "\n",
              "  @keyframes spin {\n",
              "    0% {\n",
              "      border-color: transparent;\n",
              "      border-bottom-color: var(--fill-color);\n",
              "      border-left-color: var(--fill-color);\n",
              "    }\n",
              "    20% {\n",
              "      border-color: transparent;\n",
              "      border-left-color: var(--fill-color);\n",
              "      border-top-color: var(--fill-color);\n",
              "    }\n",
              "    30% {\n",
              "      border-color: transparent;\n",
              "      border-left-color: var(--fill-color);\n",
              "      border-top-color: var(--fill-color);\n",
              "      border-right-color: var(--fill-color);\n",
              "    }\n",
              "    40% {\n",
              "      border-color: transparent;\n",
              "      border-right-color: var(--fill-color);\n",
              "      border-top-color: var(--fill-color);\n",
              "    }\n",
              "    60% {\n",
              "      border-color: transparent;\n",
              "      border-right-color: var(--fill-color);\n",
              "    }\n",
              "    80% {\n",
              "      border-color: transparent;\n",
              "      border-right-color: var(--fill-color);\n",
              "      border-bottom-color: var(--fill-color);\n",
              "    }\n",
              "    90% {\n",
              "      border-color: transparent;\n",
              "      border-bottom-color: var(--fill-color);\n",
              "    }\n",
              "  }\n",
              "</style>\n",
              "\n",
              "  <script>\n",
              "    async function quickchart(key) {\n",
              "      const quickchartButtonEl =\n",
              "        document.querySelector('#' + key + ' button');\n",
              "      quickchartButtonEl.disabled = true;  // To prevent multiple clicks.\n",
              "      quickchartButtonEl.classList.add('colab-df-spinner');\n",
              "      try {\n",
              "        const charts = await google.colab.kernel.invokeFunction(\n",
              "            'suggestCharts', [key], {});\n",
              "      } catch (error) {\n",
              "        console.error('Error during call to suggestCharts:', error);\n",
              "      }\n",
              "      quickchartButtonEl.classList.remove('colab-df-spinner');\n",
              "      quickchartButtonEl.classList.add('colab-df-quickchart-complete');\n",
              "    }\n",
              "    (() => {\n",
              "      let quickchartButtonEl =\n",
              "        document.querySelector('#df-4b299e71-2aba-4816-8bb4-114783a18643 button');\n",
              "      quickchartButtonEl.style.display =\n",
              "        google.colab.kernel.accessAllowed ? 'block' : 'none';\n",
              "    })();\n",
              "  </script>\n",
              "</div>\n",
              "\n",
              "    </div>\n",
              "  </div>\n"
            ],
            "application/vnd.google.colaboratory.intrinsic+json": {
              "type": "dataframe",
              "variable_name": "df"
            }
          },
          "metadata": {},
          "execution_count": 7
        }
      ]
    },
    {
      "cell_type": "markdown",
      "source": [
        "What % of the data is in the positive class?"
      ],
      "metadata": {
        "id": "eoptWoiTkNfb"
      }
    },
    {
      "cell_type": "code",
      "source": [
        "df.target.value_counts(normalize=True)"
      ],
      "metadata": {
        "colab": {
          "base_uri": "https://localhost:8080/"
        },
        "id": "AVV6DJiekAhJ",
        "outputId": "bd8aae69-c694-4f50-e284-769a99a95106"
      },
      "execution_count": 8,
      "outputs": [
        {
          "output_type": "execute_result",
          "data": {
            "text/plain": [
              "0    0.726073\n",
              "1    0.273927\n",
              "Name: target, dtype: float64"
            ]
          },
          "metadata": {},
          "execution_count": 8
        }
      ]
    },
    {
      "cell_type": "code",
      "source": [
        "y = df.pop('target')"
      ],
      "metadata": {
        "id": "c5p3QznOmh2x"
      },
      "execution_count": 9,
      "outputs": []
    },
    {
      "cell_type": "markdown",
      "metadata": {
        "id": "CK3j-Baa8pgs"
      },
      "source": [
        "\n",
        "Before we normalize the numerics, let's split the data into an 80% training set and 20% test set."
      ]
    },
    {
      "cell_type": "code",
      "source": [
        "from sklearn.model_selection import train_test_split"
      ],
      "metadata": {
        "id": "ZMzVgfUsmC_8"
      },
      "execution_count": 10,
      "outputs": []
    },
    {
      "cell_type": "code",
      "source": [
        "train_X, test_X, train_y, test_y = train_test_split(df, y, test_size=0.2, stratify=y)"
      ],
      "metadata": {
        "id": "pmk6ejGHmIr_"
      },
      "execution_count": 11,
      "outputs": []
    },
    {
      "cell_type": "markdown",
      "source": [
        "Next let's calculate the mean and standard deviation of every numeric variable in the training set."
      ],
      "metadata": {
        "id": "UwrTlwA3NhuV"
      }
    },
    {
      "cell_type": "code",
      "source": [
        "means = train_X[numerics].mean()\n",
        "sd = train_X[numerics].std()"
      ],
      "metadata": {
        "id": "thKdv04AZfhz"
      },
      "execution_count": 12,
      "outputs": []
    },
    {
      "cell_type": "code",
      "source": [
        "means"
      ],
      "metadata": {
        "colab": {
          "base_uri": "https://localhost:8080/"
        },
        "id": "jMUE8D9Jfuv7",
        "outputId": "d9b4027b-f068-4405-83a1-3903a0e79fc3"
      },
      "execution_count": 13,
      "outputs": [
        {
          "output_type": "execute_result",
          "data": {
            "text/plain": [
              "age          54.698347\n",
              "trestbps    131.954545\n",
              "chol        248.921488\n",
              "thalach     148.504132\n",
              "oldpeak       1.078099\n",
              "slope         1.582645\n",
              "dtype: float64"
            ]
          },
          "metadata": {},
          "execution_count": 13
        }
      ]
    },
    {
      "cell_type": "markdown",
      "source": [
        "Let's normalize the train and test dataframes with these means and standard deviations."
      ],
      "metadata": {
        "id": "L1YP45i4Zfzx"
      }
    },
    {
      "cell_type": "code",
      "source": [
        "train_X[numerics]= (train_X[numerics] - means)/sd"
      ],
      "metadata": {
        "id": "LPtsJD6jZ5E4"
      },
      "execution_count": 14,
      "outputs": []
    },
    {
      "cell_type": "code",
      "source": [
        "test_X[numerics]= (test_X[numerics] - means)/sd"
      ],
      "metadata": {
        "id": "hqzdrYJbaHT8"
      },
      "execution_count": 15,
      "outputs": []
    },
    {
      "cell_type": "code",
      "source": [
        "train_X.head()"
      ],
      "metadata": {
        "colab": {
          "base_uri": "https://localhost:8080/",
          "height": 236
        },
        "id": "y5jErgL5fycw",
        "outputId": "9e252f0a-ebac-4509-83b7-f0b63a6be4a2"
      },
      "execution_count": 16,
      "outputs": [
        {
          "output_type": "execute_result",
          "data": {
            "text/plain": [
              "          age  trestbps      chol   thalach   oldpeak     slope  sex_0  sex_1  \\\n",
              "180  2.146720 -0.682081  0.373261 -1.172451 -0.740863 -0.938703      1      0   \n",
              "99  -0.300109  1.143718  0.912372  1.257355  0.102849  0.672404      0      1   \n",
              "190  0.700867  0.116706 -0.277391 -0.149375  1.284047  0.672404      0      1   \n",
              "110  2.480378 -0.396800  1.023913  0.575304 -0.909606 -0.938703      0      1   \n",
              "116 -2.190840 -0.339744  0.614932  0.319535 -0.909606 -0.938703      0      1   \n",
              "\n",
              "     cp_0  cp_1  ...  exang_1  ca_0  ca_1  ca_2  ca_3  thal_1  thal_2  \\\n",
              "180     0     0  ...        1     0     1     0     0       0       0   \n",
              "99      0     1  ...        0     1     0     0     0       0       0   \n",
              "190     0     1  ...        0     0     0     1     0       0       0   \n",
              "110     0     0  ...        1     0     0     0     1       0       0   \n",
              "116     0     0  ...        1     1     0     0     0       0       0   \n",
              "\n",
              "     thal_fixed  thal_normal  thal_reversible  \n",
              "180           0            1                0  \n",
              "99            0            0                1  \n",
              "190           0            1                0  \n",
              "110           0            1                0  \n",
              "116           0            0                1  \n",
              "\n",
              "[5 rows x 29 columns]"
            ],
            "text/html": [
              "\n",
              "  <div id=\"df-ba730fbc-c173-4853-b4ca-e96a1a02f241\" class=\"colab-df-container\">\n",
              "    <div>\n",
              "<style scoped>\n",
              "    .dataframe tbody tr th:only-of-type {\n",
              "        vertical-align: middle;\n",
              "    }\n",
              "\n",
              "    .dataframe tbody tr th {\n",
              "        vertical-align: top;\n",
              "    }\n",
              "\n",
              "    .dataframe thead th {\n",
              "        text-align: right;\n",
              "    }\n",
              "</style>\n",
              "<table border=\"1\" class=\"dataframe\">\n",
              "  <thead>\n",
              "    <tr style=\"text-align: right;\">\n",
              "      <th></th>\n",
              "      <th>age</th>\n",
              "      <th>trestbps</th>\n",
              "      <th>chol</th>\n",
              "      <th>thalach</th>\n",
              "      <th>oldpeak</th>\n",
              "      <th>slope</th>\n",
              "      <th>sex_0</th>\n",
              "      <th>sex_1</th>\n",
              "      <th>cp_0</th>\n",
              "      <th>cp_1</th>\n",
              "      <th>...</th>\n",
              "      <th>exang_1</th>\n",
              "      <th>ca_0</th>\n",
              "      <th>ca_1</th>\n",
              "      <th>ca_2</th>\n",
              "      <th>ca_3</th>\n",
              "      <th>thal_1</th>\n",
              "      <th>thal_2</th>\n",
              "      <th>thal_fixed</th>\n",
              "      <th>thal_normal</th>\n",
              "      <th>thal_reversible</th>\n",
              "    </tr>\n",
              "  </thead>\n",
              "  <tbody>\n",
              "    <tr>\n",
              "      <th>180</th>\n",
              "      <td>2.146720</td>\n",
              "      <td>-0.682081</td>\n",
              "      <td>0.373261</td>\n",
              "      <td>-1.172451</td>\n",
              "      <td>-0.740863</td>\n",
              "      <td>-0.938703</td>\n",
              "      <td>1</td>\n",
              "      <td>0</td>\n",
              "      <td>0</td>\n",
              "      <td>0</td>\n",
              "      <td>...</td>\n",
              "      <td>1</td>\n",
              "      <td>0</td>\n",
              "      <td>1</td>\n",
              "      <td>0</td>\n",
              "      <td>0</td>\n",
              "      <td>0</td>\n",
              "      <td>0</td>\n",
              "      <td>0</td>\n",
              "      <td>1</td>\n",
              "      <td>0</td>\n",
              "    </tr>\n",
              "    <tr>\n",
              "      <th>99</th>\n",
              "      <td>-0.300109</td>\n",
              "      <td>1.143718</td>\n",
              "      <td>0.912372</td>\n",
              "      <td>1.257355</td>\n",
              "      <td>0.102849</td>\n",
              "      <td>0.672404</td>\n",
              "      <td>0</td>\n",
              "      <td>1</td>\n",
              "      <td>0</td>\n",
              "      <td>1</td>\n",
              "      <td>...</td>\n",
              "      <td>0</td>\n",
              "      <td>1</td>\n",
              "      <td>0</td>\n",
              "      <td>0</td>\n",
              "      <td>0</td>\n",
              "      <td>0</td>\n",
              "      <td>0</td>\n",
              "      <td>0</td>\n",
              "      <td>0</td>\n",
              "      <td>1</td>\n",
              "    </tr>\n",
              "    <tr>\n",
              "      <th>190</th>\n",
              "      <td>0.700867</td>\n",
              "      <td>0.116706</td>\n",
              "      <td>-0.277391</td>\n",
              "      <td>-0.149375</td>\n",
              "      <td>1.284047</td>\n",
              "      <td>0.672404</td>\n",
              "      <td>0</td>\n",
              "      <td>1</td>\n",
              "      <td>0</td>\n",
              "      <td>1</td>\n",
              "      <td>...</td>\n",
              "      <td>0</td>\n",
              "      <td>0</td>\n",
              "      <td>0</td>\n",
              "      <td>1</td>\n",
              "      <td>0</td>\n",
              "      <td>0</td>\n",
              "      <td>0</td>\n",
              "      <td>0</td>\n",
              "      <td>1</td>\n",
              "      <td>0</td>\n",
              "    </tr>\n",
              "    <tr>\n",
              "      <th>110</th>\n",
              "      <td>2.480378</td>\n",
              "      <td>-0.396800</td>\n",
              "      <td>1.023913</td>\n",
              "      <td>0.575304</td>\n",
              "      <td>-0.909606</td>\n",
              "      <td>-0.938703</td>\n",
              "      <td>0</td>\n",
              "      <td>1</td>\n",
              "      <td>0</td>\n",
              "      <td>0</td>\n",
              "      <td>...</td>\n",
              "      <td>1</td>\n",
              "      <td>0</td>\n",
              "      <td>0</td>\n",
              "      <td>0</td>\n",
              "      <td>1</td>\n",
              "      <td>0</td>\n",
              "      <td>0</td>\n",
              "      <td>0</td>\n",
              "      <td>1</td>\n",
              "      <td>0</td>\n",
              "    </tr>\n",
              "    <tr>\n",
              "      <th>116</th>\n",
              "      <td>-2.190840</td>\n",
              "      <td>-0.339744</td>\n",
              "      <td>0.614932</td>\n",
              "      <td>0.319535</td>\n",
              "      <td>-0.909606</td>\n",
              "      <td>-0.938703</td>\n",
              "      <td>0</td>\n",
              "      <td>1</td>\n",
              "      <td>0</td>\n",
              "      <td>0</td>\n",
              "      <td>...</td>\n",
              "      <td>1</td>\n",
              "      <td>1</td>\n",
              "      <td>0</td>\n",
              "      <td>0</td>\n",
              "      <td>0</td>\n",
              "      <td>0</td>\n",
              "      <td>0</td>\n",
              "      <td>0</td>\n",
              "      <td>0</td>\n",
              "      <td>1</td>\n",
              "    </tr>\n",
              "  </tbody>\n",
              "</table>\n",
              "<p>5 rows × 29 columns</p>\n",
              "</div>\n",
              "    <div class=\"colab-df-buttons\">\n",
              "\n",
              "  <div class=\"colab-df-container\">\n",
              "    <button class=\"colab-df-convert\" onclick=\"convertToInteractive('df-ba730fbc-c173-4853-b4ca-e96a1a02f241')\"\n",
              "            title=\"Convert this dataframe to an interactive table.\"\n",
              "            style=\"display:none;\">\n",
              "\n",
              "  <svg xmlns=\"http://www.w3.org/2000/svg\" height=\"24px\" viewBox=\"0 -960 960 960\">\n",
              "    <path d=\"M120-120v-720h720v720H120Zm60-500h600v-160H180v160Zm220 220h160v-160H400v160Zm0 220h160v-160H400v160ZM180-400h160v-160H180v160Zm440 0h160v-160H620v160ZM180-180h160v-160H180v160Zm440 0h160v-160H620v160Z\"/>\n",
              "  </svg>\n",
              "    </button>\n",
              "\n",
              "  <style>\n",
              "    .colab-df-container {\n",
              "      display:flex;\n",
              "      gap: 12px;\n",
              "    }\n",
              "\n",
              "    .colab-df-convert {\n",
              "      background-color: #E8F0FE;\n",
              "      border: none;\n",
              "      border-radius: 50%;\n",
              "      cursor: pointer;\n",
              "      display: none;\n",
              "      fill: #1967D2;\n",
              "      height: 32px;\n",
              "      padding: 0 0 0 0;\n",
              "      width: 32px;\n",
              "    }\n",
              "\n",
              "    .colab-df-convert:hover {\n",
              "      background-color: #E2EBFA;\n",
              "      box-shadow: 0px 1px 2px rgba(60, 64, 67, 0.3), 0px 1px 3px 1px rgba(60, 64, 67, 0.15);\n",
              "      fill: #174EA6;\n",
              "    }\n",
              "\n",
              "    .colab-df-buttons div {\n",
              "      margin-bottom: 4px;\n",
              "    }\n",
              "\n",
              "    [theme=dark] .colab-df-convert {\n",
              "      background-color: #3B4455;\n",
              "      fill: #D2E3FC;\n",
              "    }\n",
              "\n",
              "    [theme=dark] .colab-df-convert:hover {\n",
              "      background-color: #434B5C;\n",
              "      box-shadow: 0px 1px 3px 1px rgba(0, 0, 0, 0.15);\n",
              "      filter: drop-shadow(0px 1px 2px rgba(0, 0, 0, 0.3));\n",
              "      fill: #FFFFFF;\n",
              "    }\n",
              "  </style>\n",
              "\n",
              "    <script>\n",
              "      const buttonEl =\n",
              "        document.querySelector('#df-ba730fbc-c173-4853-b4ca-e96a1a02f241 button.colab-df-convert');\n",
              "      buttonEl.style.display =\n",
              "        google.colab.kernel.accessAllowed ? 'block' : 'none';\n",
              "\n",
              "      async function convertToInteractive(key) {\n",
              "        const element = document.querySelector('#df-ba730fbc-c173-4853-b4ca-e96a1a02f241');\n",
              "        const dataTable =\n",
              "          await google.colab.kernel.invokeFunction('convertToInteractive',\n",
              "                                                    [key], {});\n",
              "        if (!dataTable) return;\n",
              "\n",
              "        const docLinkHtml = 'Like what you see? Visit the ' +\n",
              "          '<a target=\"_blank\" href=https://colab.research.google.com/notebooks/data_table.ipynb>data table notebook</a>'\n",
              "          + ' to learn more about interactive tables.';\n",
              "        element.innerHTML = '';\n",
              "        dataTable['output_type'] = 'display_data';\n",
              "        await google.colab.output.renderOutput(dataTable, element);\n",
              "        const docLink = document.createElement('div');\n",
              "        docLink.innerHTML = docLinkHtml;\n",
              "        element.appendChild(docLink);\n",
              "      }\n",
              "    </script>\n",
              "  </div>\n",
              "\n",
              "\n",
              "<div id=\"df-6019d1bd-f87f-4fbd-b0dd-f9bf1f08852e\">\n",
              "  <button class=\"colab-df-quickchart\" onclick=\"quickchart('df-6019d1bd-f87f-4fbd-b0dd-f9bf1f08852e')\"\n",
              "            title=\"Suggest charts\"\n",
              "            style=\"display:none;\">\n",
              "\n",
              "<svg xmlns=\"http://www.w3.org/2000/svg\" height=\"24px\"viewBox=\"0 0 24 24\"\n",
              "     width=\"24px\">\n",
              "    <g>\n",
              "        <path d=\"M19 3H5c-1.1 0-2 .9-2 2v14c0 1.1.9 2 2 2h14c1.1 0 2-.9 2-2V5c0-1.1-.9-2-2-2zM9 17H7v-7h2v7zm4 0h-2V7h2v10zm4 0h-2v-4h2v4z\"/>\n",
              "    </g>\n",
              "</svg>\n",
              "  </button>\n",
              "\n",
              "<style>\n",
              "  .colab-df-quickchart {\n",
              "      --bg-color: #E8F0FE;\n",
              "      --fill-color: #1967D2;\n",
              "      --hover-bg-color: #E2EBFA;\n",
              "      --hover-fill-color: #174EA6;\n",
              "      --disabled-fill-color: #AAA;\n",
              "      --disabled-bg-color: #DDD;\n",
              "  }\n",
              "\n",
              "  [theme=dark] .colab-df-quickchart {\n",
              "      --bg-color: #3B4455;\n",
              "      --fill-color: #D2E3FC;\n",
              "      --hover-bg-color: #434B5C;\n",
              "      --hover-fill-color: #FFFFFF;\n",
              "      --disabled-bg-color: #3B4455;\n",
              "      --disabled-fill-color: #666;\n",
              "  }\n",
              "\n",
              "  .colab-df-quickchart {\n",
              "    background-color: var(--bg-color);\n",
              "    border: none;\n",
              "    border-radius: 50%;\n",
              "    cursor: pointer;\n",
              "    display: none;\n",
              "    fill: var(--fill-color);\n",
              "    height: 32px;\n",
              "    padding: 0;\n",
              "    width: 32px;\n",
              "  }\n",
              "\n",
              "  .colab-df-quickchart:hover {\n",
              "    background-color: var(--hover-bg-color);\n",
              "    box-shadow: 0 1px 2px rgba(60, 64, 67, 0.3), 0 1px 3px 1px rgba(60, 64, 67, 0.15);\n",
              "    fill: var(--button-hover-fill-color);\n",
              "  }\n",
              "\n",
              "  .colab-df-quickchart-complete:disabled,\n",
              "  .colab-df-quickchart-complete:disabled:hover {\n",
              "    background-color: var(--disabled-bg-color);\n",
              "    fill: var(--disabled-fill-color);\n",
              "    box-shadow: none;\n",
              "  }\n",
              "\n",
              "  .colab-df-spinner {\n",
              "    border: 2px solid var(--fill-color);\n",
              "    border-color: transparent;\n",
              "    border-bottom-color: var(--fill-color);\n",
              "    animation:\n",
              "      spin 1s steps(1) infinite;\n",
              "  }\n",
              "\n",
              "  @keyframes spin {\n",
              "    0% {\n",
              "      border-color: transparent;\n",
              "      border-bottom-color: var(--fill-color);\n",
              "      border-left-color: var(--fill-color);\n",
              "    }\n",
              "    20% {\n",
              "      border-color: transparent;\n",
              "      border-left-color: var(--fill-color);\n",
              "      border-top-color: var(--fill-color);\n",
              "    }\n",
              "    30% {\n",
              "      border-color: transparent;\n",
              "      border-left-color: var(--fill-color);\n",
              "      border-top-color: var(--fill-color);\n",
              "      border-right-color: var(--fill-color);\n",
              "    }\n",
              "    40% {\n",
              "      border-color: transparent;\n",
              "      border-right-color: var(--fill-color);\n",
              "      border-top-color: var(--fill-color);\n",
              "    }\n",
              "    60% {\n",
              "      border-color: transparent;\n",
              "      border-right-color: var(--fill-color);\n",
              "    }\n",
              "    80% {\n",
              "      border-color: transparent;\n",
              "      border-right-color: var(--fill-color);\n",
              "      border-bottom-color: var(--fill-color);\n",
              "    }\n",
              "    90% {\n",
              "      border-color: transparent;\n",
              "      border-bottom-color: var(--fill-color);\n",
              "    }\n",
              "  }\n",
              "</style>\n",
              "\n",
              "  <script>\n",
              "    async function quickchart(key) {\n",
              "      const quickchartButtonEl =\n",
              "        document.querySelector('#' + key + ' button');\n",
              "      quickchartButtonEl.disabled = true;  // To prevent multiple clicks.\n",
              "      quickchartButtonEl.classList.add('colab-df-spinner');\n",
              "      try {\n",
              "        const charts = await google.colab.kernel.invokeFunction(\n",
              "            'suggestCharts', [key], {});\n",
              "      } catch (error) {\n",
              "        console.error('Error during call to suggestCharts:', error);\n",
              "      }\n",
              "      quickchartButtonEl.classList.remove('colab-df-spinner');\n",
              "      quickchartButtonEl.classList.add('colab-df-quickchart-complete');\n",
              "    }\n",
              "    (() => {\n",
              "      let quickchartButtonEl =\n",
              "        document.querySelector('#df-6019d1bd-f87f-4fbd-b0dd-f9bf1f08852e button');\n",
              "      quickchartButtonEl.style.display =\n",
              "        google.colab.kernel.accessAllowed ? 'block' : 'none';\n",
              "    })();\n",
              "  </script>\n",
              "</div>\n",
              "\n",
              "    </div>\n",
              "  </div>\n"
            ],
            "application/vnd.google.colaboratory.intrinsic+json": {
              "type": "dataframe",
              "variable_name": "train_X"
            }
          },
          "metadata": {},
          "execution_count": 16
        }
      ]
    },
    {
      "cell_type": "markdown",
      "source": [
        "The easiest way to feed data to Keras/Tensorflow is as Numpy arrays so we convert our two dataframes to Numpy arrays."
      ],
      "metadata": {
        "id": "jxB_UeNMN6Al"
      }
    },
    {
      "cell_type": "code",
      "source": [
        "train_X = train_X.to_numpy()\n",
        "test_X = test_X.to_numpy()"
      ],
      "metadata": {
        "id": "0ivSr2kzW6tY"
      },
      "execution_count": 17,
      "outputs": []
    },
    {
      "cell_type": "code",
      "source": [
        "train_X.shape, train_y.shape"
      ],
      "metadata": {
        "colab": {
          "base_uri": "https://localhost:8080/"
        },
        "id": "YcHmVPMIaS-E",
        "outputId": "3347fac3-9b90-42e6-fa92-a8f9745c0273"
      },
      "execution_count": 18,
      "outputs": [
        {
          "output_type": "execute_result",
          "data": {
            "text/plain": [
              "((242, 29), (242,))"
            ]
          },
          "metadata": {},
          "execution_count": 18
        }
      ]
    },
    {
      "cell_type": "code",
      "source": [
        "test_X.shape, test_y.shape\n"
      ],
      "metadata": {
        "colab": {
          "base_uri": "https://localhost:8080/"
        },
        "id": "1uYWRkHIa3mL",
        "outputId": "9adcb4a0-f27a-4662-cb3e-51150590be93"
      },
      "execution_count": 19,
      "outputs": [
        {
          "output_type": "execute_result",
          "data": {
            "text/plain": [
              "((61, 29), (61,))"
            ]
          },
          "metadata": {},
          "execution_count": 19
        }
      ]
    },
    {
      "cell_type": "markdown",
      "metadata": {
        "id": "p0wrFZ9o8pgv"
      },
      "source": [
        "## Building the model\n"
      ]
    },
    {
      "cell_type": "markdown",
      "source": [
        "\n",
        "### Define model in Keras\n",
        "\n",
        "Creating a neural network is usually just a few lines of Keras code.\n",
        "\n",
        "* We will start with a single hidden layer.\n",
        "* Since this is a *binary classification problem*, we will use a sigmoid activation in the output layer."
      ],
      "metadata": {
        "id": "Gh4MNTIjreyL"
      }
    },
    {
      "cell_type": "markdown",
      "source": [
        "![image.png](data:image/png;base64,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)"
      ],
      "metadata": {
        "id": "nSSAnvqGLt8I"
      }
    },
    {
      "cell_type": "code",
      "execution_count": 61,
      "metadata": {
        "id": "69p4o0lR8pgv"
      },
      "outputs": [],
      "source": [
        "num_columns = train_X.shape[1]\n",
        "\n",
        "# define the input layer\n",
        "input = keras.Input(shape=num_columns)\n",
        "\n",
        "# feed the input vector to the hidden layer\n",
        "h = keras.layers.Dense(16, activation=\"relu\", name=\"Hidden\")(input)\n",
        "\n",
        "# feed the output of the hidden layer to the output layer\n",
        "output = keras.layers.Dense(1, activation=\"sigmoid\", name=\"Output\")(h)\n",
        "\n",
        "# tell Keras that this (input,output) pair is your model\n",
        "model = keras.Model(input, output)"
      ]
    },
    {
      "cell_type": "markdown",
      "source": [
        "The `model.summary()` command is a good way to get a quick overview of the model as defined."
      ],
      "metadata": {
        "id": "coJALvJfPZPl"
      }
    },
    {
      "cell_type": "code",
      "source": [
        "model.summary()"
      ],
      "metadata": {
        "colab": {
          "base_uri": "https://localhost:8080/"
        },
        "id": "tUL_yaaIbGVN",
        "outputId": "571c71c7-f839-4413-de1b-ebafc05c4cb3"
      },
      "execution_count": 62,
      "outputs": [
        {
          "output_type": "stream",
          "name": "stdout",
          "text": [
            "Model: \"model_3\"\n",
            "_________________________________________________________________\n",
            " Layer (type)                Output Shape              Param #   \n",
            "=================================================================\n",
            " input_4 (InputLayer)        [(None, 29)]              0         \n",
            "                                                                 \n",
            " Hidden (Dense)              (None, 16)                480       \n",
            "                                                                 \n",
            " Output (Dense)              (None, 1)                 17        \n",
            "                                                                 \n",
            "=================================================================\n",
            "Total params: 497 (1.94 KB)\n",
            "Trainable params: 497 (1.94 KB)\n",
            "Non-trainable params: 0 (0.00 Byte)\n",
            "_________________________________________________________________\n"
          ]
        }
      ]
    },
    {
      "cell_type": "markdown",
      "source": [
        "We can \"visualize\" the network graphically using Keras' `plot_model` function."
      ],
      "metadata": {
        "id": "lfsdY6h5QBbV"
      }
    },
    {
      "cell_type": "code",
      "execution_count": 63,
      "metadata": {
        "id": "uHfYbbKD8pgv",
        "colab": {
          "base_uri": "https://localhost:8080/",
          "height": 312
        },
        "outputId": "06315ec5-5823-4a47-b5b4-440ab23f969d"
      },
      "outputs": [
        {
          "output_type": "execute_result",
          "data": {
            "image/png": "[encoded data removed]",
            "text/plain": [
              "<IPython.core.display.Image object>"
            ]
          },
          "metadata": {},
          "execution_count": 63
        }
      ],
      "source": [
        "keras.utils.plot_model(model, show_shapes=True)"
      ]
    },
    {
      "cell_type": "markdown",
      "source": [
        "Let's hand-calculate the number of parameters to verify."
      ],
      "metadata": {
        "id": "3Rtoj4OuPzVw"
      }
    },
    {
      "cell_type": "code",
      "source": [
        "(29 * 16 + 16) + (16 * 1 + 1)"
      ],
      "metadata": {
        "colab": {
          "base_uri": "https://localhost:8080/"
        },
        "id": "e_FpjV_1PiRP",
        "outputId": "bca73370-3b6a-41c1-c7d1-b683562adfcc"
      },
      "execution_count": 64,
      "outputs": [
        {
          "output_type": "execute_result",
          "data": {
            "text/plain": [
              "497"
            ]
          },
          "metadata": {},
          "execution_count": 64
        }
      ]
    },
    {
      "cell_type": "markdown",
      "source": [
        "### Set optimization parameters"
      ],
      "metadata": {
        "id": "Igf5bWCZQG8E"
      }
    },
    {
      "cell_type": "markdown",
      "source": [
        "Now that the model is defined, we need to tell Keras three things:\n",
        "\n",
        "*   What **loss function** to use - Since our output variable is binary, we will select the `binary_crossentropy` loss function.\n",
        "*   Which **optimizer** to use - we will use a 'flavor' of SGD called **Adam** which is an excellent default choice\n",
        "*   What **metrics** you want Keras to report out - in classification problems like this one, accuracy is commonly used."
      ],
      "metadata": {
        "id": "vaNfhfuAQIkZ"
      }
    },
    {
      "cell_type": "code",
      "source": [
        "model.compile(optimizer=\"adam\",\n",
        "              loss=\"binary_crossentropy\",\n",
        "              metrics=[\"accuracy\"])"
      ],
      "metadata": {
        "id": "RiJgZpm2PxDi"
      },
      "execution_count": 65,
      "outputs": []
    },
    {
      "cell_type": "markdown",
      "source": [
        "## Train the model\n",
        "\n",
        "To kickoff training, we have to decide on three things:\n",
        "* The *batch size* - 32 is a good default\n",
        "* The number of *epochs* i.e., how many passes through the training data. Usually 20-30 epochs is a good starting point but since this dataset is very small, each epoch will be very quick so let's run it for 300 epochs. It will allow us to see if any overfitting happens.\n",
        "* Whether we want to use a validation set. This will be useful for overfitting detection and regularization via early stopping so we will ask Keras to automatically use 20% of the data points as a validation set."
      ],
      "metadata": {
        "id": "8_gDdeqiQUeN"
      }
    },
    {
      "cell_type": "markdown",
      "metadata": {
        "id": "wPZFylPP8pgw"
      },
      "source": [
        "Let's train the model using the `model.fit` function!"
      ]
    },
    {
      "cell_type": "code",
      "execution_count": 66,
      "metadata": {
        "id": "mo71UEBf8pgw",
        "colab": {
          "base_uri": "https://localhost:8080/"
        },
        "outputId": "cc91ab5a-d152-441e-fe1e-1924b7490d40"
      },
      "outputs": [
        {
          "output_type": "stream",
          "name": "stdout",
          "text": [
            "Epoch 1/300\n",
            "7/7 [==============================] - 1s 31ms/step - loss: 0.9955 - accuracy: 0.2902 - val_loss: 0.9727 - val_accuracy: 0.3061\n",
            "Epoch 2/300\n",
            "7/7 [==============================] - 0s 11ms/step - loss: 0.9405 - accuracy: 0.3005 - val_loss: 0.9278 - val_accuracy: 0.3061\n",
            "Epoch 3/300\n",
            "7/7 [==============================] - 0s 8ms/step - loss: 0.8984 - accuracy: 0.2902 - val_loss: 0.8899 - val_accuracy: 0.2653\n",
            "Epoch 4/300\n",
            "7/7 [==============================] - 0s 7ms/step - loss: 0.8605 - accuracy: 0.2902 - val_loss: 0.8571 - val_accuracy: 0.3061\n",
            "Epoch 5/300\n",
            "7/7 [==============================] - 0s 8ms/step - loss: 0.8253 - accuracy: 0.3212 - val_loss: 0.8265 - val_accuracy: 0.3265\n",
            "Epoch 6/300\n",
            "7/7 [==============================] - 0s 7ms/step - loss: 0.7945 - accuracy: 0.3575 - val_loss: 0.7978 - val_accuracy: 0.3878\n",
            "Epoch 7/300\n",
            "7/7 [==============================] - 0s 8ms/step - loss: 0.7671 - accuracy: 0.3990 - val_loss: 0.7742 - val_accuracy: 0.4286\n",
            "Epoch 8/300\n",
            "7/7 [==============================] - 0s 10ms/step - loss: 0.7440 - accuracy: 0.4352 - val_loss: 0.7530 - val_accuracy: 0.4490\n",
            "Epoch 9/300\n",
            "7/7 [==============================] - 0s 12ms/step - loss: 0.7229 - accuracy: 0.5026 - val_loss: 0.7321 - val_accuracy: 0.4490\n",
            "Epoch 10/300\n",
            "7/7 [==============================] - 0s 11ms/step - loss: 0.7018 - accuracy: 0.5544 - val_loss: 0.7115 - val_accuracy: 0.5102\n",
            "Epoch 11/300\n",
            "7/7 [==============================] - 0s 8ms/step - loss: 0.6815 - accuracy: 0.5699 - val_loss: 0.6924 - val_accuracy: 0.5918\n",
            "Epoch 12/300\n",
            "7/7 [==============================] - 0s 10ms/step - loss: 0.6635 - accuracy: 0.5959 - val_loss: 0.6755 - val_accuracy: 0.5918\n",
            "Epoch 13/300\n",
            "7/7 [==============================] - 0s 10ms/step - loss: 0.6455 - accuracy: 0.6269 - val_loss: 0.6576 - val_accuracy: 0.6735\n",
            "Epoch 14/300\n",
            "7/7 [==============================] - 0s 9ms/step - loss: 0.6281 - accuracy: 0.6788 - val_loss: 0.6416 - val_accuracy: 0.7143\n",
            "Epoch 15/300\n",
            "7/7 [==============================] - 0s 8ms/step - loss: 0.6129 - accuracy: 0.7098 - val_loss: 0.6270 - val_accuracy: 0.7143\n",
            "Epoch 16/300\n",
            "7/7 [==============================] - 0s 8ms/step - loss: 0.5991 - accuracy: 0.7254 - val_loss: 0.6157 - val_accuracy: 0.7143\n",
            "Epoch 17/300\n",
            "7/7 [==============================] - 0s 8ms/step - loss: 0.5871 - accuracy: 0.7513 - val_loss: 0.6035 - val_accuracy: 0.7143\n",
            "Epoch 18/300\n",
            "7/7 [==============================] - 0s 8ms/step - loss: 0.5744 - accuracy: 0.7565 - val_loss: 0.5912 - val_accuracy: 0.7347\n",
            "Epoch 19/300\n",
            "7/7 [==============================] - 0s 10ms/step - loss: 0.5617 - accuracy: 0.7720 - val_loss: 0.5791 - val_accuracy: 0.7347\n",
            "Epoch 20/300\n",
            "7/7 [==============================] - 0s 8ms/step - loss: 0.5498 - accuracy: 0.7876 - val_loss: 0.5673 - val_accuracy: 0.7347\n",
            "Epoch 21/300\n",
            "7/7 [==============================] - 0s 10ms/step - loss: 0.5379 - accuracy: 0.7979 - val_loss: 0.5555 - val_accuracy: 0.7347\n",
            "Epoch 22/300\n",
            "7/7 [==============================] - 0s 10ms/step - loss: 0.5263 - accuracy: 0.8238 - val_loss: 0.5456 - val_accuracy: 0.7551\n",
            "Epoch 23/300\n",
            "7/7 [==============================] - 0s 10ms/step - loss: 0.5154 - accuracy: 0.8135 - val_loss: 0.5357 - val_accuracy: 0.7143\n",
            "Epoch 24/300\n",
            "7/7 [==============================] - 0s 11ms/step - loss: 0.5051 - accuracy: 0.8238 - val_loss: 0.5262 - val_accuracy: 0.7347\n",
            "Epoch 25/300\n",
            "7/7 [==============================] - 0s 8ms/step - loss: 0.4950 - accuracy: 0.8187 - val_loss: 0.5183 - val_accuracy: 0.7347\n",
            "Epoch 26/300\n",
            "7/7 [==============================] - 0s 10ms/step - loss: 0.4863 - accuracy: 0.8187 - val_loss: 0.5108 - val_accuracy: 0.7347\n",
            "Epoch 27/300\n",
            "7/7 [==============================] - 0s 8ms/step - loss: 0.4783 - accuracy: 0.8187 - val_loss: 0.5031 - val_accuracy: 0.7347\n",
            "Epoch 28/300\n",
            "7/7 [==============================] - 0s 7ms/step - loss: 0.4694 - accuracy: 0.8187 - val_loss: 0.4951 - val_accuracy: 0.7347\n",
            "Epoch 29/300\n",
            "7/7 [==============================] - 0s 8ms/step - loss: 0.4613 - accuracy: 0.8238 - val_loss: 0.4865 - val_accuracy: 0.7551\n",
            "Epoch 30/300\n",
            "7/7 [==============================] - 0s 11ms/step - loss: 0.4524 - accuracy: 0.8342 - val_loss: 0.4779 - val_accuracy: 0.7551\n",
            "Epoch 31/300\n",
            "7/7 [==============================] - 0s 7ms/step - loss: 0.4440 - accuracy: 0.8342 - val_loss: 0.4692 - val_accuracy: 0.7551\n",
            "Epoch 32/300\n",
            "7/7 [==============================] - 0s 7ms/step - loss: 0.4356 - accuracy: 0.8290 - val_loss: 0.4593 - val_accuracy: 0.7755\n",
            "Epoch 33/300\n",
            "7/7 [==============================] - 0s 7ms/step - loss: 0.4282 - accuracy: 0.8394 - val_loss: 0.4515 - val_accuracy: 0.7755\n",
            "Epoch 34/300\n",
            "7/7 [==============================] - 0s 10ms/step - loss: 0.4222 - accuracy: 0.8290 - val_loss: 0.4477 - val_accuracy: 0.7755\n",
            "Epoch 35/300\n",
            "7/7 [==============================] - 0s 7ms/step - loss: 0.4173 - accuracy: 0.8342 - val_loss: 0.4418 - val_accuracy: 0.7959\n",
            "Epoch 36/300\n",
            "7/7 [==============================] - 0s 7ms/step - loss: 0.4128 - accuracy: 0.8446 - val_loss: 0.4395 - val_accuracy: 0.7959\n",
            "Epoch 37/300\n",
            "7/7 [==============================] - 0s 8ms/step - loss: 0.4086 - accuracy: 0.8497 - val_loss: 0.4366 - val_accuracy: 0.7959\n",
            "Epoch 38/300\n",
            "7/7 [==============================] - 0s 8ms/step - loss: 0.4040 - accuracy: 0.8497 - val_loss: 0.4323 - val_accuracy: 0.7959\n",
            "Epoch 39/300\n",
            "7/7 [==============================] - 0s 9ms/step - loss: 0.3998 - accuracy: 0.8497 - val_loss: 0.4284 - val_accuracy: 0.7959\n",
            "Epoch 40/300\n",
            "7/7 [==============================] - 0s 8ms/step - loss: 0.3957 - accuracy: 0.8549 - val_loss: 0.4237 - val_accuracy: 0.7959\n",
            "Epoch 41/300\n",
            "7/7 [==============================] - 0s 8ms/step - loss: 0.3914 - accuracy: 0.8549 - val_loss: 0.4193 - val_accuracy: 0.8163\n",
            "Epoch 42/300\n",
            "7/7 [==============================] - 0s 10ms/step - loss: 0.3880 - accuracy: 0.8497 - val_loss: 0.4170 - val_accuracy: 0.8163\n",
            "Epoch 43/300\n",
            "7/7 [==============================] - 0s 11ms/step - loss: 0.3844 - accuracy: 0.8549 - val_loss: 0.4131 - val_accuracy: 0.8163\n",
            "Epoch 44/300\n",
            "7/7 [==============================] - 0s 7ms/step - loss: 0.3806 - accuracy: 0.8497 - val_loss: 0.4080 - val_accuracy: 0.8163\n",
            "Epoch 45/300\n",
            "7/7 [==============================] - 0s 9ms/step - loss: 0.3762 - accuracy: 0.8549 - val_loss: 0.4015 - val_accuracy: 0.8163\n",
            "Epoch 46/300\n",
            "7/7 [==============================] - 0s 8ms/step - loss: 0.3719 - accuracy: 0.8549 - val_loss: 0.3958 - val_accuracy: 0.7959\n",
            "Epoch 47/300\n",
            "7/7 [==============================] - 0s 10ms/step - loss: 0.3680 - accuracy: 0.8549 - val_loss: 0.3914 - val_accuracy: 0.7959\n",
            "Epoch 48/300\n",
            "7/7 [==============================] - 0s 8ms/step - loss: 0.3644 - accuracy: 0.8497 - val_loss: 0.3873 - val_accuracy: 0.7959\n",
            "Epoch 49/300\n",
            "7/7 [==============================] - 0s 8ms/step - loss: 0.3609 - accuracy: 0.8497 - val_loss: 0.3836 - val_accuracy: 0.7959\n",
            "Epoch 50/300\n",
            "7/7 [==============================] - 0s 11ms/step - loss: 0.3581 - accuracy: 0.8497 - val_loss: 0.3796 - val_accuracy: 0.7959\n",
            "Epoch 51/300\n",
            "7/7 [==============================] - 0s 7ms/step - loss: 0.3549 - accuracy: 0.8497 - val_loss: 0.3757 - val_accuracy: 0.7959\n",
            "Epoch 52/300\n",
            "7/7 [==============================] - 0s 11ms/step - loss: 0.3520 - accuracy: 0.8549 - val_loss: 0.3721 - val_accuracy: 0.8163\n",
            "Epoch 53/300\n",
            "7/7 [==============================] - 0s 8ms/step - loss: 0.3491 - accuracy: 0.8549 - val_loss: 0.3686 - val_accuracy: 0.8163\n",
            "Epoch 54/300\n",
            "7/7 [==============================] - 0s 8ms/step - loss: 0.3465 - accuracy: 0.8549 - val_loss: 0.3651 - val_accuracy: 0.8163\n",
            "Epoch 55/300\n",
            "7/7 [==============================] - 0s 8ms/step - loss: 0.3438 - accuracy: 0.8601 - val_loss: 0.3619 - val_accuracy: 0.8163\n",
            "Epoch 56/300\n",
            "7/7 [==============================] - 0s 10ms/step - loss: 0.3414 - accuracy: 0.8653 - val_loss: 0.3583 - val_accuracy: 0.8163\n",
            "Epoch 57/300\n",
            "7/7 [==============================] - 0s 10ms/step - loss: 0.3386 - accuracy: 0.8653 - val_loss: 0.3550 - val_accuracy: 0.8163\n",
            "Epoch 58/300\n",
            "7/7 [==============================] - 0s 10ms/step - loss: 0.3362 - accuracy: 0.8601 - val_loss: 0.3517 - val_accuracy: 0.8163\n",
            "Epoch 59/300\n",
            "7/7 [==============================] - 0s 10ms/step - loss: 0.3340 - accuracy: 0.8601 - val_loss: 0.3483 - val_accuracy: 0.8163\n",
            "Epoch 60/300\n",
            "7/7 [==============================] - 0s 7ms/step - loss: 0.3315 - accuracy: 0.8601 - val_loss: 0.3455 - val_accuracy: 0.8367\n",
            "Epoch 61/300\n",
            "7/7 [==============================] - 0s 10ms/step - loss: 0.3298 - accuracy: 0.8653 - val_loss: 0.3423 - val_accuracy: 0.8367\n",
            "Epoch 62/300\n",
            "7/7 [==============================] - 0s 10ms/step - loss: 0.3278 - accuracy: 0.8653 - val_loss: 0.3411 - val_accuracy: 0.8367\n",
            "Epoch 63/300\n",
            "7/7 [==============================] - 0s 7ms/step - loss: 0.3261 - accuracy: 0.8653 - val_loss: 0.3396 - val_accuracy: 0.8367\n",
            "Epoch 64/300\n",
            "7/7 [==============================] - 0s 7ms/step - loss: 0.3246 - accuracy: 0.8601 - val_loss: 0.3342 - val_accuracy: 0.8367\n",
            "Epoch 65/300\n",
            "7/7 [==============================] - 0s 10ms/step - loss: 0.3212 - accuracy: 0.8549 - val_loss: 0.3274 - val_accuracy: 0.8367\n",
            "Epoch 66/300\n",
            "7/7 [==============================] - 0s 7ms/step - loss: 0.3201 - accuracy: 0.8549 - val_loss: 0.3238 - val_accuracy: 0.8776\n",
            "Epoch 67/300\n",
            "7/7 [==============================] - 0s 10ms/step - loss: 0.3190 - accuracy: 0.8497 - val_loss: 0.3267 - val_accuracy: 0.8367\n",
            "Epoch 68/300\n",
            "7/7 [==============================] - 0s 7ms/step - loss: 0.3174 - accuracy: 0.8549 - val_loss: 0.3269 - val_accuracy: 0.8367\n",
            "Epoch 69/300\n",
            "7/7 [==============================] - 0s 8ms/step - loss: 0.3164 - accuracy: 0.8549 - val_loss: 0.3266 - val_accuracy: 0.8367\n",
            "Epoch 70/300\n",
            "7/7 [==============================] - 0s 8ms/step - loss: 0.3150 - accuracy: 0.8549 - val_loss: 0.3260 - val_accuracy: 0.8367\n",
            "Epoch 71/300\n",
            "7/7 [==============================] - 0s 11ms/step - loss: 0.3134 - accuracy: 0.8549 - val_loss: 0.3247 - val_accuracy: 0.8367\n",
            "Epoch 72/300\n",
            "7/7 [==============================] - 0s 10ms/step - loss: 0.3119 - accuracy: 0.8549 - val_loss: 0.3229 - val_accuracy: 0.8367\n",
            "Epoch 73/300\n",
            "7/7 [==============================] - 0s 10ms/step - loss: 0.3105 - accuracy: 0.8549 - val_loss: 0.3200 - val_accuracy: 0.8367\n",
            "Epoch 74/300\n",
            "7/7 [==============================] - 0s 7ms/step - loss: 0.3092 - accuracy: 0.8497 - val_loss: 0.3153 - val_accuracy: 0.8571\n",
            "Epoch 75/300\n",
            "7/7 [==============================] - 0s 9ms/step - loss: 0.3066 - accuracy: 0.8549 - val_loss: 0.3134 - val_accuracy: 0.8571\n",
            "Epoch 76/300\n",
            "7/7 [==============================] - 0s 8ms/step - loss: 0.3050 - accuracy: 0.8549 - val_loss: 0.3121 - val_accuracy: 0.8571\n",
            "Epoch 77/300\n",
            "7/7 [==============================] - 0s 11ms/step - loss: 0.3037 - accuracy: 0.8549 - val_loss: 0.3111 - val_accuracy: 0.8571\n",
            "Epoch 78/300\n",
            "7/7 [==============================] - 0s 8ms/step - loss: 0.3025 - accuracy: 0.8549 - val_loss: 0.3108 - val_accuracy: 0.8571\n",
            "Epoch 79/300\n",
            "7/7 [==============================] - 0s 11ms/step - loss: 0.3008 - accuracy: 0.8549 - val_loss: 0.3103 - val_accuracy: 0.8571\n",
            "Epoch 80/300\n",
            "7/7 [==============================] - 0s 8ms/step - loss: 0.3001 - accuracy: 0.8549 - val_loss: 0.3104 - val_accuracy: 0.8571\n",
            "Epoch 81/300\n",
            "7/7 [==============================] - 0s 8ms/step - loss: 0.2990 - accuracy: 0.8549 - val_loss: 0.3113 - val_accuracy: 0.8571\n",
            "Epoch 82/300\n",
            "7/7 [==============================] - 0s 11ms/step - loss: 0.2993 - accuracy: 0.8549 - val_loss: 0.3184 - val_accuracy: 0.8367\n",
            "Epoch 83/300\n",
            "7/7 [==============================] - 0s 7ms/step - loss: 0.2997 - accuracy: 0.8549 - val_loss: 0.3206 - val_accuracy: 0.8367\n",
            "Epoch 84/300\n",
            "7/7 [==============================] - 0s 10ms/step - loss: 0.2992 - accuracy: 0.8549 - val_loss: 0.3198 - val_accuracy: 0.8367\n",
            "Epoch 85/300\n",
            "7/7 [==============================] - 0s 10ms/step - loss: 0.2980 - accuracy: 0.8601 - val_loss: 0.3178 - val_accuracy: 0.8367\n",
            "Epoch 86/300\n",
            "7/7 [==============================] - 0s 8ms/step - loss: 0.2965 - accuracy: 0.8601 - val_loss: 0.3168 - val_accuracy: 0.8367\n",
            "Epoch 87/300\n",
            "7/7 [==============================] - 0s 11ms/step - loss: 0.2963 - accuracy: 0.8601 - val_loss: 0.3193 - val_accuracy: 0.8367\n",
            "Epoch 88/300\n",
            "7/7 [==============================] - 0s 7ms/step - loss: 0.2959 - accuracy: 0.8601 - val_loss: 0.3152 - val_accuracy: 0.8571\n",
            "Epoch 89/300\n",
            "7/7 [==============================] - 0s 8ms/step - loss: 0.2941 - accuracy: 0.8601 - val_loss: 0.3123 - val_accuracy: 0.8571\n",
            "Epoch 90/300\n",
            "7/7 [==============================] - 0s 7ms/step - loss: 0.2931 - accuracy: 0.8601 - val_loss: 0.3094 - val_accuracy: 0.8571\n",
            "Epoch 91/300\n",
            "7/7 [==============================] - 0s 8ms/step - loss: 0.2915 - accuracy: 0.8549 - val_loss: 0.3069 - val_accuracy: 0.8571\n",
            "Epoch 92/300\n",
            "7/7 [==============================] - 0s 9ms/step - loss: 0.2895 - accuracy: 0.8653 - val_loss: 0.3031 - val_accuracy: 0.8571\n",
            "Epoch 93/300\n",
            "7/7 [==============================] - 0s 10ms/step - loss: 0.2885 - accuracy: 0.8601 - val_loss: 0.2990 - val_accuracy: 0.8776\n",
            "Epoch 94/300\n",
            "7/7 [==============================] - 0s 8ms/step - loss: 0.2871 - accuracy: 0.8601 - val_loss: 0.2965 - val_accuracy: 0.8776\n",
            "Epoch 95/300\n",
            "7/7 [==============================] - 0s 10ms/step - loss: 0.2861 - accuracy: 0.8653 - val_loss: 0.2942 - val_accuracy: 0.8776\n",
            "Epoch 96/300\n",
            "7/7 [==============================] - 0s 8ms/step - loss: 0.2853 - accuracy: 0.8705 - val_loss: 0.2939 - val_accuracy: 0.8776\n",
            "Epoch 97/300\n",
            "7/7 [==============================] - 0s 7ms/step - loss: 0.2848 - accuracy: 0.8601 - val_loss: 0.2993 - val_accuracy: 0.8571\n",
            "Epoch 98/300\n",
            "7/7 [==============================] - 0s 7ms/step - loss: 0.2843 - accuracy: 0.8653 - val_loss: 0.3026 - val_accuracy: 0.8571\n",
            "Epoch 99/300\n",
            "7/7 [==============================] - 0s 7ms/step - loss: 0.2843 - accuracy: 0.8653 - val_loss: 0.3089 - val_accuracy: 0.8571\n",
            "Epoch 100/300\n",
            "7/7 [==============================] - 0s 8ms/step - loss: 0.2841 - accuracy: 0.8653 - val_loss: 0.3101 - val_accuracy: 0.8571\n",
            "Epoch 101/300\n",
            "7/7 [==============================] - 0s 10ms/step - loss: 0.2833 - accuracy: 0.8653 - val_loss: 0.3076 - val_accuracy: 0.8571\n",
            "Epoch 102/300\n",
            "7/7 [==============================] - 0s 10ms/step - loss: 0.2815 - accuracy: 0.8756 - val_loss: 0.3032 - val_accuracy: 0.8571\n",
            "Epoch 103/300\n",
            "7/7 [==============================] - 0s 8ms/step - loss: 0.2800 - accuracy: 0.8756 - val_loss: 0.3056 - val_accuracy: 0.8571\n",
            "Epoch 104/300\n",
            "7/7 [==============================] - 0s 8ms/step - loss: 0.2793 - accuracy: 0.8653 - val_loss: 0.3059 - val_accuracy: 0.8571\n",
            "Epoch 105/300\n",
            "7/7 [==============================] - 0s 7ms/step - loss: 0.2785 - accuracy: 0.8705 - val_loss: 0.3053 - val_accuracy: 0.8571\n",
            "Epoch 106/300\n",
            "7/7 [==============================] - 0s 10ms/step - loss: 0.2777 - accuracy: 0.8756 - val_loss: 0.3050 - val_accuracy: 0.8571\n",
            "Epoch 107/300\n",
            "7/7 [==============================] - 0s 10ms/step - loss: 0.2764 - accuracy: 0.8756 - val_loss: 0.3042 - val_accuracy: 0.8571\n",
            "Epoch 108/300\n",
            "7/7 [==============================] - 0s 8ms/step - loss: 0.2756 - accuracy: 0.8756 - val_loss: 0.3027 - val_accuracy: 0.8571\n",
            "Epoch 109/300\n",
            "7/7 [==============================] - 0s 8ms/step - loss: 0.2748 - accuracy: 0.8756 - val_loss: 0.3008 - val_accuracy: 0.8571\n",
            "Epoch 110/300\n",
            "7/7 [==============================] - 0s 11ms/step - loss: 0.2735 - accuracy: 0.8756 - val_loss: 0.3006 - val_accuracy: 0.8571\n",
            "Epoch 111/300\n",
            "7/7 [==============================] - 0s 10ms/step - loss: 0.2729 - accuracy: 0.8756 - val_loss: 0.2998 - val_accuracy: 0.8571\n",
            "Epoch 112/300\n",
            "7/7 [==============================] - 0s 11ms/step - loss: 0.2720 - accuracy: 0.8756 - val_loss: 0.2983 - val_accuracy: 0.8571\n",
            "Epoch 113/300\n",
            "7/7 [==============================] - 0s 8ms/step - loss: 0.2708 - accuracy: 0.8756 - val_loss: 0.2981 - val_accuracy: 0.8571\n",
            "Epoch 114/300\n",
            "7/7 [==============================] - 0s 8ms/step - loss: 0.2701 - accuracy: 0.8756 - val_loss: 0.3022 - val_accuracy: 0.8571\n",
            "Epoch 115/300\n",
            "7/7 [==============================] - 0s 7ms/step - loss: 0.2697 - accuracy: 0.8756 - val_loss: 0.3013 - val_accuracy: 0.8571\n",
            "Epoch 116/300\n",
            "7/7 [==============================] - 0s 7ms/step - loss: 0.2678 - accuracy: 0.8756 - val_loss: 0.2977 - val_accuracy: 0.8571\n",
            "Epoch 117/300\n",
            "7/7 [==============================] - 0s 10ms/step - loss: 0.2671 - accuracy: 0.8705 - val_loss: 0.2952 - val_accuracy: 0.8571\n",
            "Epoch 118/300\n",
            "7/7 [==============================] - 0s 11ms/step - loss: 0.2662 - accuracy: 0.8705 - val_loss: 0.2938 - val_accuracy: 0.8571\n",
            "Epoch 119/300\n",
            "7/7 [==============================] - 0s 10ms/step - loss: 0.2655 - accuracy: 0.8705 - val_loss: 0.2929 - val_accuracy: 0.8571\n",
            "Epoch 120/300\n",
            "7/7 [==============================] - 0s 8ms/step - loss: 0.2647 - accuracy: 0.8705 - val_loss: 0.2907 - val_accuracy: 0.8776\n",
            "Epoch 121/300\n",
            "7/7 [==============================] - 0s 8ms/step - loss: 0.2640 - accuracy: 0.8756 - val_loss: 0.2883 - val_accuracy: 0.8776\n",
            "Epoch 122/300\n",
            "7/7 [==============================] - 0s 11ms/step - loss: 0.2628 - accuracy: 0.8808 - val_loss: 0.2871 - val_accuracy: 0.8776\n",
            "Epoch 123/300\n",
            "7/7 [==============================] - 0s 8ms/step - loss: 0.2625 - accuracy: 0.8860 - val_loss: 0.2858 - val_accuracy: 0.8776\n",
            "Epoch 124/300\n",
            "7/7 [==============================] - 0s 11ms/step - loss: 0.2617 - accuracy: 0.8860 - val_loss: 0.2862 - val_accuracy: 0.8776\n",
            "Epoch 125/300\n",
            "7/7 [==============================] - 0s 10ms/step - loss: 0.2604 - accuracy: 0.8860 - val_loss: 0.2876 - val_accuracy: 0.8776\n",
            "Epoch 126/300\n",
            "7/7 [==============================] - 0s 8ms/step - loss: 0.2595 - accuracy: 0.8808 - val_loss: 0.2908 - val_accuracy: 0.8776\n",
            "Epoch 127/300\n",
            "7/7 [==============================] - 0s 14ms/step - loss: 0.2582 - accuracy: 0.8860 - val_loss: 0.2911 - val_accuracy: 0.8776\n",
            "Epoch 128/300\n",
            "7/7 [==============================] - 0s 14ms/step - loss: 0.2575 - accuracy: 0.8860 - val_loss: 0.2909 - val_accuracy: 0.8776\n",
            "Epoch 129/300\n",
            "7/7 [==============================] - 0s 13ms/step - loss: 0.2566 - accuracy: 0.8860 - val_loss: 0.2893 - val_accuracy: 0.8776\n",
            "Epoch 130/300\n",
            "7/7 [==============================] - 0s 11ms/step - loss: 0.2558 - accuracy: 0.8912 - val_loss: 0.2888 - val_accuracy: 0.8776\n",
            "Epoch 131/300\n",
            "7/7 [==============================] - 0s 14ms/step - loss: 0.2551 - accuracy: 0.8912 - val_loss: 0.2883 - val_accuracy: 0.8776\n",
            "Epoch 132/300\n",
            "7/7 [==============================] - 0s 14ms/step - loss: 0.2542 - accuracy: 0.8912 - val_loss: 0.2874 - val_accuracy: 0.8776\n",
            "Epoch 133/300\n",
            "7/7 [==============================] - 0s 9ms/step - loss: 0.2534 - accuracy: 0.8912 - val_loss: 0.2868 - val_accuracy: 0.8776\n",
            "Epoch 134/300\n",
            "7/7 [==============================] - 0s 11ms/step - loss: 0.2525 - accuracy: 0.8912 - val_loss: 0.2857 - val_accuracy: 0.8776\n",
            "Epoch 135/300\n",
            "7/7 [==============================] - 0s 13ms/step - loss: 0.2517 - accuracy: 0.8912 - val_loss: 0.2845 - val_accuracy: 0.8776\n",
            "Epoch 136/300\n",
            "7/7 [==============================] - 0s 14ms/step - loss: 0.2512 - accuracy: 0.8912 - val_loss: 0.2820 - val_accuracy: 0.8776\n",
            "Epoch 137/300\n",
            "7/7 [==============================] - 0s 14ms/step - loss: 0.2513 - accuracy: 0.8860 - val_loss: 0.2806 - val_accuracy: 0.8980\n",
            "Epoch 138/300\n",
            "7/7 [==============================] - 0s 10ms/step - loss: 0.2502 - accuracy: 0.8860 - val_loss: 0.2836 - val_accuracy: 0.8776\n",
            "Epoch 139/300\n",
            "7/7 [==============================] - 0s 13ms/step - loss: 0.2494 - accuracy: 0.8912 - val_loss: 0.2860 - val_accuracy: 0.8776\n",
            "Epoch 140/300\n",
            "7/7 [==============================] - 0s 13ms/step - loss: 0.2485 - accuracy: 0.8912 - val_loss: 0.2868 - val_accuracy: 0.8776\n",
            "Epoch 141/300\n",
            "7/7 [==============================] - 0s 12ms/step - loss: 0.2476 - accuracy: 0.8912 - val_loss: 0.2866 - val_accuracy: 0.8776\n",
            "Epoch 142/300\n",
            "7/7 [==============================] - 0s 13ms/step - loss: 0.2467 - accuracy: 0.8912 - val_loss: 0.2867 - val_accuracy: 0.8776\n",
            "Epoch 143/300\n",
            "7/7 [==============================] - 0s 14ms/step - loss: 0.2469 - accuracy: 0.8912 - val_loss: 0.2910 - val_accuracy: 0.8776\n",
            "Epoch 144/300\n",
            "7/7 [==============================] - 0s 12ms/step - loss: 0.2456 - accuracy: 0.8912 - val_loss: 0.2915 - val_accuracy: 0.8776\n",
            "Epoch 145/300\n",
            "7/7 [==============================] - 0s 12ms/step - loss: 0.2452 - accuracy: 0.8912 - val_loss: 0.2911 - val_accuracy: 0.8776\n",
            "Epoch 146/300\n",
            "7/7 [==============================] - 0s 14ms/step - loss: 0.2443 - accuracy: 0.8912 - val_loss: 0.2905 - val_accuracy: 0.8776\n",
            "Epoch 147/300\n",
            "7/7 [==============================] - 0s 12ms/step - loss: 0.2434 - accuracy: 0.8912 - val_loss: 0.2900 - val_accuracy: 0.8776\n",
            "Epoch 148/300\n",
            "7/7 [==============================] - 0s 13ms/step - loss: 0.2428 - accuracy: 0.8912 - val_loss: 0.2886 - val_accuracy: 0.8776\n",
            "Epoch 149/300\n",
            "7/7 [==============================] - 0s 12ms/step - loss: 0.2418 - accuracy: 0.8912 - val_loss: 0.2888 - val_accuracy: 0.8776\n",
            "Epoch 150/300\n",
            "7/7 [==============================] - 0s 13ms/step - loss: 0.2410 - accuracy: 0.8912 - val_loss: 0.2888 - val_accuracy: 0.8776\n",
            "Epoch 151/300\n",
            "7/7 [==============================] - 0s 11ms/step - loss: 0.2404 - accuracy: 0.8912 - val_loss: 0.2891 - val_accuracy: 0.8776\n",
            "Epoch 152/300\n",
            "7/7 [==============================] - 0s 10ms/step - loss: 0.2398 - accuracy: 0.8912 - val_loss: 0.2883 - val_accuracy: 0.8776\n",
            "Epoch 153/300\n",
            "7/7 [==============================] - 0s 9ms/step - loss: 0.2391 - accuracy: 0.8912 - val_loss: 0.2853 - val_accuracy: 0.8776\n",
            "Epoch 154/300\n",
            "7/7 [==============================] - 0s 11ms/step - loss: 0.2384 - accuracy: 0.8912 - val_loss: 0.2849 - val_accuracy: 0.8776\n",
            "Epoch 155/300\n",
            "7/7 [==============================] - 0s 8ms/step - loss: 0.2383 - accuracy: 0.8912 - val_loss: 0.2874 - val_accuracy: 0.8776\n",
            "Epoch 156/300\n",
            "7/7 [==============================] - 0s 8ms/step - loss: 0.2367 - accuracy: 0.8912 - val_loss: 0.2869 - val_accuracy: 0.8776\n",
            "Epoch 157/300\n",
            "7/7 [==============================] - 0s 10ms/step - loss: 0.2361 - accuracy: 0.8912 - val_loss: 0.2864 - val_accuracy: 0.8776\n",
            "Epoch 158/300\n",
            "7/7 [==============================] - 0s 10ms/step - loss: 0.2352 - accuracy: 0.8912 - val_loss: 0.2862 - val_accuracy: 0.8776\n",
            "Epoch 159/300\n",
            "7/7 [==============================] - 0s 11ms/step - loss: 0.2346 - accuracy: 0.8912 - val_loss: 0.2853 - val_accuracy: 0.8776\n",
            "Epoch 160/300\n",
            "7/7 [==============================] - 0s 11ms/step - loss: 0.2337 - accuracy: 0.8964 - val_loss: 0.2824 - val_accuracy: 0.8776\n",
            "Epoch 161/300\n",
            "7/7 [==============================] - 0s 8ms/step - loss: 0.2334 - accuracy: 0.8964 - val_loss: 0.2813 - val_accuracy: 0.8776\n",
            "Epoch 162/300\n",
            "7/7 [==============================] - 0s 12ms/step - loss: 0.2328 - accuracy: 0.9016 - val_loss: 0.2807 - val_accuracy: 0.8776\n",
            "Epoch 163/300\n",
            "7/7 [==============================] - 0s 8ms/step - loss: 0.2319 - accuracy: 0.9016 - val_loss: 0.2804 - val_accuracy: 0.8776\n",
            "Epoch 164/300\n",
            "7/7 [==============================] - 0s 10ms/step - loss: 0.2311 - accuracy: 0.9016 - val_loss: 0.2791 - val_accuracy: 0.8776\n",
            "Epoch 165/300\n",
            "7/7 [==============================] - 0s 10ms/step - loss: 0.2306 - accuracy: 0.9016 - val_loss: 0.2788 - val_accuracy: 0.8776\n",
            "Epoch 166/300\n",
            "7/7 [==============================] - 0s 8ms/step - loss: 0.2299 - accuracy: 0.9067 - val_loss: 0.2775 - val_accuracy: 0.8776\n",
            "Epoch 167/300\n",
            "7/7 [==============================] - 0s 10ms/step - loss: 0.2295 - accuracy: 0.9067 - val_loss: 0.2745 - val_accuracy: 0.8980\n",
            "Epoch 168/300\n",
            "7/7 [==============================] - 0s 10ms/step - loss: 0.2293 - accuracy: 0.9067 - val_loss: 0.2727 - val_accuracy: 0.8980\n",
            "Epoch 169/300\n",
            "7/7 [==============================] - 0s 8ms/step - loss: 0.2285 - accuracy: 0.9016 - val_loss: 0.2693 - val_accuracy: 0.8980\n",
            "Epoch 170/300\n",
            "7/7 [==============================] - 0s 7ms/step - loss: 0.2292 - accuracy: 0.8964 - val_loss: 0.2691 - val_accuracy: 0.8980\n",
            "Epoch 171/300\n",
            "7/7 [==============================] - 0s 10ms/step - loss: 0.2284 - accuracy: 0.8964 - val_loss: 0.2692 - val_accuracy: 0.8980\n",
            "Epoch 172/300\n",
            "7/7 [==============================] - 0s 10ms/step - loss: 0.2276 - accuracy: 0.8964 - val_loss: 0.2693 - val_accuracy: 0.8980\n",
            "Epoch 173/300\n",
            "7/7 [==============================] - 0s 10ms/step - loss: 0.2266 - accuracy: 0.8964 - val_loss: 0.2697 - val_accuracy: 0.8980\n",
            "Epoch 174/300\n",
            "7/7 [==============================] - 0s 11ms/step - loss: 0.2256 - accuracy: 0.8964 - val_loss: 0.2699 - val_accuracy: 0.8980\n",
            "Epoch 175/300\n",
            "7/7 [==============================] - 0s 8ms/step - loss: 0.2244 - accuracy: 0.9016 - val_loss: 0.2716 - val_accuracy: 0.8980\n",
            "Epoch 176/300\n",
            "7/7 [==============================] - 0s 10ms/step - loss: 0.2234 - accuracy: 0.9067 - val_loss: 0.2727 - val_accuracy: 0.8980\n",
            "Epoch 177/300\n",
            "7/7 [==============================] - 0s 9ms/step - loss: 0.2225 - accuracy: 0.9067 - val_loss: 0.2709 - val_accuracy: 0.8980\n",
            "Epoch 178/300\n",
            "7/7 [==============================] - 0s 8ms/step - loss: 0.2218 - accuracy: 0.9067 - val_loss: 0.2736 - val_accuracy: 0.8980\n",
            "Epoch 179/300\n",
            "7/7 [==============================] - 0s 7ms/step - loss: 0.2208 - accuracy: 0.9119 - val_loss: 0.2751 - val_accuracy: 0.8980\n",
            "Epoch 180/300\n",
            "7/7 [==============================] - 0s 10ms/step - loss: 0.2200 - accuracy: 0.9119 - val_loss: 0.2768 - val_accuracy: 0.8980\n",
            "Epoch 181/300\n",
            "7/7 [==============================] - 0s 8ms/step - loss: 0.2194 - accuracy: 0.9119 - val_loss: 0.2807 - val_accuracy: 0.8980\n",
            "Epoch 182/300\n",
            "7/7 [==============================] - 0s 10ms/step - loss: 0.2187 - accuracy: 0.9119 - val_loss: 0.2835 - val_accuracy: 0.8776\n",
            "Epoch 183/300\n",
            "7/7 [==============================] - 0s 8ms/step - loss: 0.2179 - accuracy: 0.9119 - val_loss: 0.2843 - val_accuracy: 0.8776\n",
            "Epoch 184/300\n",
            "7/7 [==============================] - 0s 11ms/step - loss: 0.2175 - accuracy: 0.9119 - val_loss: 0.2846 - val_accuracy: 0.8776\n",
            "Epoch 185/300\n",
            "7/7 [==============================] - 0s 10ms/step - loss: 0.2163 - accuracy: 0.9119 - val_loss: 0.2810 - val_accuracy: 0.8980\n",
            "Epoch 186/300\n",
            "7/7 [==============================] - 0s 7ms/step - loss: 0.2153 - accuracy: 0.9119 - val_loss: 0.2794 - val_accuracy: 0.8980\n",
            "Epoch 187/300\n",
            "7/7 [==============================] - 0s 11ms/step - loss: 0.2147 - accuracy: 0.9119 - val_loss: 0.2783 - val_accuracy: 0.8980\n",
            "Epoch 188/300\n",
            "7/7 [==============================] - 0s 10ms/step - loss: 0.2139 - accuracy: 0.9119 - val_loss: 0.2788 - val_accuracy: 0.8980\n",
            "Epoch 189/300\n",
            "7/7 [==============================] - 0s 8ms/step - loss: 0.2132 - accuracy: 0.9119 - val_loss: 0.2790 - val_accuracy: 0.8980\n",
            "Epoch 190/300\n",
            "7/7 [==============================] - 0s 8ms/step - loss: 0.2125 - accuracy: 0.9119 - val_loss: 0.2787 - val_accuracy: 0.8980\n",
            "Epoch 191/300\n",
            "7/7 [==============================] - 0s 8ms/step - loss: 0.2118 - accuracy: 0.9119 - val_loss: 0.2779 - val_accuracy: 0.8980\n",
            "Epoch 192/300\n",
            "7/7 [==============================] - 0s 9ms/step - loss: 0.2111 - accuracy: 0.9119 - val_loss: 0.2743 - val_accuracy: 0.8980\n",
            "Epoch 193/300\n",
            "7/7 [==============================] - 0s 12ms/step - loss: 0.2104 - accuracy: 0.9119 - val_loss: 0.2732 - val_accuracy: 0.8980\n",
            "Epoch 194/300\n",
            "7/7 [==============================] - 0s 10ms/step - loss: 0.2098 - accuracy: 0.9119 - val_loss: 0.2736 - val_accuracy: 0.8980\n",
            "Epoch 195/300\n",
            "7/7 [==============================] - 0s 11ms/step - loss: 0.2090 - accuracy: 0.9119 - val_loss: 0.2741 - val_accuracy: 0.8980\n",
            "Epoch 196/300\n",
            "7/7 [==============================] - 0s 7ms/step - loss: 0.2084 - accuracy: 0.9119 - val_loss: 0.2749 - val_accuracy: 0.8980\n",
            "Epoch 197/300\n",
            "7/7 [==============================] - 0s 8ms/step - loss: 0.2078 - accuracy: 0.9119 - val_loss: 0.2748 - val_accuracy: 0.8980\n",
            "Epoch 198/300\n",
            "7/7 [==============================] - 0s 10ms/step - loss: 0.2072 - accuracy: 0.9119 - val_loss: 0.2730 - val_accuracy: 0.8980\n",
            "Epoch 199/300\n",
            "7/7 [==============================] - 0s 8ms/step - loss: 0.2063 - accuracy: 0.9119 - val_loss: 0.2684 - val_accuracy: 0.8980\n",
            "Epoch 200/300\n",
            "7/7 [==============================] - 0s 10ms/step - loss: 0.2061 - accuracy: 0.9119 - val_loss: 0.2676 - val_accuracy: 0.8980\n",
            "Epoch 201/300\n",
            "7/7 [==============================] - 0s 8ms/step - loss: 0.2056 - accuracy: 0.9119 - val_loss: 0.2720 - val_accuracy: 0.8980\n",
            "Epoch 202/300\n",
            "7/7 [==============================] - 0s 10ms/step - loss: 0.2043 - accuracy: 0.9171 - val_loss: 0.2783 - val_accuracy: 0.8980\n",
            "Epoch 203/300\n",
            "7/7 [==============================] - 0s 10ms/step - loss: 0.2064 - accuracy: 0.9223 - val_loss: 0.2881 - val_accuracy: 0.8776\n",
            "Epoch 204/300\n",
            "7/7 [==============================] - 0s 8ms/step - loss: 0.2066 - accuracy: 0.9223 - val_loss: 0.2911 - val_accuracy: 0.8776\n",
            "Epoch 205/300\n",
            "7/7 [==============================] - 0s 8ms/step - loss: 0.2064 - accuracy: 0.9275 - val_loss: 0.2916 - val_accuracy: 0.8776\n",
            "Epoch 206/300\n",
            "7/7 [==============================] - 0s 10ms/step - loss: 0.2055 - accuracy: 0.9275 - val_loss: 0.2903 - val_accuracy: 0.8776\n",
            "Epoch 207/300\n",
            "7/7 [==============================] - 0s 8ms/step - loss: 0.2041 - accuracy: 0.9275 - val_loss: 0.2887 - val_accuracy: 0.8776\n",
            "Epoch 208/300\n",
            "7/7 [==============================] - 0s 10ms/step - loss: 0.2030 - accuracy: 0.9275 - val_loss: 0.2872 - val_accuracy: 0.8776\n",
            "Epoch 209/300\n",
            "7/7 [==============================] - 0s 9ms/step - loss: 0.2020 - accuracy: 0.9275 - val_loss: 0.2851 - val_accuracy: 0.8980\n",
            "Epoch 210/300\n",
            "7/7 [==============================] - 0s 8ms/step - loss: 0.2008 - accuracy: 0.9223 - val_loss: 0.2809 - val_accuracy: 0.8980\n",
            "Epoch 211/300\n",
            "7/7 [==============================] - 0s 10ms/step - loss: 0.1998 - accuracy: 0.9171 - val_loss: 0.2788 - val_accuracy: 0.8980\n",
            "Epoch 212/300\n",
            "7/7 [==============================] - 0s 8ms/step - loss: 0.1989 - accuracy: 0.9171 - val_loss: 0.2778 - val_accuracy: 0.8980\n",
            "Epoch 213/300\n",
            "7/7 [==============================] - 0s 10ms/step - loss: 0.1985 - accuracy: 0.9171 - val_loss: 0.2780 - val_accuracy: 0.8980\n",
            "Epoch 214/300\n",
            "7/7 [==============================] - 0s 11ms/step - loss: 0.1978 - accuracy: 0.9171 - val_loss: 0.2780 - val_accuracy: 0.8980\n",
            "Epoch 215/300\n",
            "7/7 [==============================] - 0s 7ms/step - loss: 0.1971 - accuracy: 0.9171 - val_loss: 0.2781 - val_accuracy: 0.8980\n",
            "Epoch 216/300\n",
            "7/7 [==============================] - 0s 8ms/step - loss: 0.1966 - accuracy: 0.9171 - val_loss: 0.2791 - val_accuracy: 0.8980\n",
            "Epoch 217/300\n",
            "7/7 [==============================] - 0s 11ms/step - loss: 0.1961 - accuracy: 0.9171 - val_loss: 0.2786 - val_accuracy: 0.8980\n",
            "Epoch 218/300\n",
            "7/7 [==============================] - 0s 10ms/step - loss: 0.1954 - accuracy: 0.9171 - val_loss: 0.2788 - val_accuracy: 0.8980\n",
            "Epoch 219/300\n",
            "7/7 [==============================] - 0s 8ms/step - loss: 0.1948 - accuracy: 0.9171 - val_loss: 0.2781 - val_accuracy: 0.8980\n",
            "Epoch 220/300\n",
            "7/7 [==============================] - 0s 8ms/step - loss: 0.1943 - accuracy: 0.9171 - val_loss: 0.2772 - val_accuracy: 0.8980\n",
            "Epoch 221/300\n",
            "7/7 [==============================] - 0s 8ms/step - loss: 0.1936 - accuracy: 0.9171 - val_loss: 0.2760 - val_accuracy: 0.8980\n",
            "Epoch 222/300\n",
            "7/7 [==============================] - 0s 8ms/step - loss: 0.1925 - accuracy: 0.9171 - val_loss: 0.2711 - val_accuracy: 0.8980\n",
            "Epoch 223/300\n",
            "7/7 [==============================] - 0s 7ms/step - loss: 0.1924 - accuracy: 0.9119 - val_loss: 0.2679 - val_accuracy: 0.8980\n",
            "Epoch 224/300\n",
            "7/7 [==============================] - 0s 11ms/step - loss: 0.1918 - accuracy: 0.9171 - val_loss: 0.2641 - val_accuracy: 0.8980\n",
            "Epoch 225/300\n",
            "7/7 [==============================] - 0s 10ms/step - loss: 0.1924 - accuracy: 0.9275 - val_loss: 0.2624 - val_accuracy: 0.8980\n",
            "Epoch 226/300\n",
            "7/7 [==============================] - 0s 8ms/step - loss: 0.1921 - accuracy: 0.9275 - val_loss: 0.2607 - val_accuracy: 0.8980\n",
            "Epoch 227/300\n",
            "7/7 [==============================] - 0s 7ms/step - loss: 0.1933 - accuracy: 0.9223 - val_loss: 0.2571 - val_accuracy: 0.8980\n",
            "Epoch 228/300\n",
            "7/7 [==============================] - 0s 7ms/step - loss: 0.1930 - accuracy: 0.9171 - val_loss: 0.2567 - val_accuracy: 0.8980\n",
            "Epoch 229/300\n",
            "7/7 [==============================] - 0s 11ms/step - loss: 0.1919 - accuracy: 0.9223 - val_loss: 0.2582 - val_accuracy: 0.8980\n",
            "Epoch 230/300\n",
            "7/7 [==============================] - 0s 8ms/step - loss: 0.1898 - accuracy: 0.9223 - val_loss: 0.2625 - val_accuracy: 0.8980\n",
            "Epoch 231/300\n",
            "7/7 [==============================] - 0s 7ms/step - loss: 0.1889 - accuracy: 0.9275 - val_loss: 0.2625 - val_accuracy: 0.8980\n",
            "Epoch 232/300\n",
            "7/7 [==============================] - 0s 7ms/step - loss: 0.1885 - accuracy: 0.9223 - val_loss: 0.2640 - val_accuracy: 0.8980\n",
            "Epoch 233/300\n",
            "7/7 [==============================] - 0s 7ms/step - loss: 0.1880 - accuracy: 0.9223 - val_loss: 0.2649 - val_accuracy: 0.8980\n",
            "Epoch 234/300\n",
            "7/7 [==============================] - 0s 8ms/step - loss: 0.1874 - accuracy: 0.9223 - val_loss: 0.2658 - val_accuracy: 0.8980\n",
            "Epoch 235/300\n",
            "7/7 [==============================] - 0s 7ms/step - loss: 0.1866 - accuracy: 0.9223 - val_loss: 0.2658 - val_accuracy: 0.8980\n",
            "Epoch 236/300\n",
            "7/7 [==============================] - 0s 10ms/step - loss: 0.1860 - accuracy: 0.9223 - val_loss: 0.2668 - val_accuracy: 0.8980\n",
            "Epoch 237/300\n",
            "7/7 [==============================] - 0s 8ms/step - loss: 0.1853 - accuracy: 0.9275 - val_loss: 0.2682 - val_accuracy: 0.8980\n",
            "Epoch 238/300\n",
            "7/7 [==============================] - 0s 8ms/step - loss: 0.1846 - accuracy: 0.9275 - val_loss: 0.2683 - val_accuracy: 0.8980\n",
            "Epoch 239/300\n",
            "7/7 [==============================] - 0s 11ms/step - loss: 0.1844 - accuracy: 0.9275 - val_loss: 0.2677 - val_accuracy: 0.8980\n",
            "Epoch 240/300\n",
            "7/7 [==============================] - 0s 10ms/step - loss: 0.1839 - accuracy: 0.9223 - val_loss: 0.2682 - val_accuracy: 0.8980\n",
            "Epoch 241/300\n",
            "7/7 [==============================] - 0s 10ms/step - loss: 0.1834 - accuracy: 0.9223 - val_loss: 0.2698 - val_accuracy: 0.8980\n",
            "Epoch 242/300\n",
            "7/7 [==============================] - 0s 11ms/step - loss: 0.1823 - accuracy: 0.9326 - val_loss: 0.2744 - val_accuracy: 0.8980\n",
            "Epoch 243/300\n",
            "7/7 [==============================] - 0s 10ms/step - loss: 0.1825 - accuracy: 0.9326 - val_loss: 0.2766 - val_accuracy: 0.8980\n",
            "Epoch 244/300\n",
            "7/7 [==============================] - 0s 11ms/step - loss: 0.1825 - accuracy: 0.9326 - val_loss: 0.2792 - val_accuracy: 0.8980\n",
            "Epoch 245/300\n",
            "7/7 [==============================] - 0s 11ms/step - loss: 0.1828 - accuracy: 0.9326 - val_loss: 0.2817 - val_accuracy: 0.8980\n",
            "Epoch 246/300\n",
            "7/7 [==============================] - 0s 11ms/step - loss: 0.1827 - accuracy: 0.9326 - val_loss: 0.2821 - val_accuracy: 0.8980\n",
            "Epoch 247/300\n",
            "7/7 [==============================] - 0s 8ms/step - loss: 0.1822 - accuracy: 0.9326 - val_loss: 0.2815 - val_accuracy: 0.8980\n",
            "Epoch 248/300\n",
            "7/7 [==============================] - 0s 11ms/step - loss: 0.1815 - accuracy: 0.9326 - val_loss: 0.2801 - val_accuracy: 0.8980\n",
            "Epoch 249/300\n",
            "7/7 [==============================] - 0s 8ms/step - loss: 0.1804 - accuracy: 0.9326 - val_loss: 0.2788 - val_accuracy: 0.8980\n",
            "Epoch 250/300\n",
            "7/7 [==============================] - 0s 8ms/step - loss: 0.1793 - accuracy: 0.9326 - val_loss: 0.2764 - val_accuracy: 0.8980\n",
            "Epoch 251/300\n",
            "7/7 [==============================] - 0s 10ms/step - loss: 0.1791 - accuracy: 0.9275 - val_loss: 0.2738 - val_accuracy: 0.8980\n",
            "Epoch 252/300\n",
            "7/7 [==============================] - 0s 11ms/step - loss: 0.1783 - accuracy: 0.9326 - val_loss: 0.2709 - val_accuracy: 0.8980\n",
            "Epoch 253/300\n",
            "7/7 [==============================] - 0s 8ms/step - loss: 0.1775 - accuracy: 0.9326 - val_loss: 0.2700 - val_accuracy: 0.8980\n",
            "Epoch 254/300\n",
            "7/7 [==============================] - 0s 8ms/step - loss: 0.1770 - accuracy: 0.9326 - val_loss: 0.2700 - val_accuracy: 0.8980\n",
            "Epoch 255/300\n",
            "7/7 [==============================] - 0s 9ms/step - loss: 0.1764 - accuracy: 0.9326 - val_loss: 0.2703 - val_accuracy: 0.8980\n",
            "Epoch 256/300\n",
            "7/7 [==============================] - 0s 11ms/step - loss: 0.1759 - accuracy: 0.9326 - val_loss: 0.2720 - val_accuracy: 0.8980\n",
            "Epoch 257/300\n",
            "7/7 [==============================] - 0s 8ms/step - loss: 0.1752 - accuracy: 0.9326 - val_loss: 0.2719 - val_accuracy: 0.8980\n",
            "Epoch 258/300\n",
            "7/7 [==============================] - 0s 10ms/step - loss: 0.1749 - accuracy: 0.9326 - val_loss: 0.2708 - val_accuracy: 0.8980\n",
            "Epoch 259/300\n",
            "7/7 [==============================] - 0s 10ms/step - loss: 0.1746 - accuracy: 0.9326 - val_loss: 0.2697 - val_accuracy: 0.8980\n",
            "Epoch 260/300\n",
            "7/7 [==============================] - 0s 9ms/step - loss: 0.1740 - accuracy: 0.9326 - val_loss: 0.2694 - val_accuracy: 0.8980\n",
            "Epoch 261/300\n",
            "7/7 [==============================] - 0s 10ms/step - loss: 0.1736 - accuracy: 0.9275 - val_loss: 0.2686 - val_accuracy: 0.8980\n",
            "Epoch 262/300\n",
            "7/7 [==============================] - 0s 8ms/step - loss: 0.1730 - accuracy: 0.9326 - val_loss: 0.2692 - val_accuracy: 0.8980\n",
            "Epoch 263/300\n",
            "7/7 [==============================] - 0s 8ms/step - loss: 0.1725 - accuracy: 0.9326 - val_loss: 0.2694 - val_accuracy: 0.8980\n",
            "Epoch 264/300\n",
            "7/7 [==============================] - 0s 10ms/step - loss: 0.1719 - accuracy: 0.9326 - val_loss: 0.2699 - val_accuracy: 0.8980\n",
            "Epoch 265/300\n",
            "7/7 [==============================] - 0s 9ms/step - loss: 0.1713 - accuracy: 0.9326 - val_loss: 0.2704 - val_accuracy: 0.8980\n",
            "Epoch 266/300\n",
            "7/7 [==============================] - 0s 10ms/step - loss: 0.1709 - accuracy: 0.9326 - val_loss: 0.2714 - val_accuracy: 0.8980\n",
            "Epoch 267/300\n",
            "7/7 [==============================] - 0s 8ms/step - loss: 0.1702 - accuracy: 0.9326 - val_loss: 0.2714 - val_accuracy: 0.8980\n",
            "Epoch 268/300\n",
            "7/7 [==============================] - 0s 8ms/step - loss: 0.1700 - accuracy: 0.9326 - val_loss: 0.2702 - val_accuracy: 0.8980\n",
            "Epoch 269/300\n",
            "7/7 [==============================] - 0s 8ms/step - loss: 0.1695 - accuracy: 0.9275 - val_loss: 0.2693 - val_accuracy: 0.8980\n",
            "Epoch 270/300\n",
            "7/7 [==============================] - 0s 11ms/step - loss: 0.1696 - accuracy: 0.9275 - val_loss: 0.2662 - val_accuracy: 0.8980\n",
            "Epoch 271/300\n",
            "7/7 [==============================] - 0s 10ms/step - loss: 0.1695 - accuracy: 0.9223 - val_loss: 0.2651 - val_accuracy: 0.8980\n",
            "Epoch 272/300\n",
            "7/7 [==============================] - 0s 10ms/step - loss: 0.1692 - accuracy: 0.9275 - val_loss: 0.2644 - val_accuracy: 0.8980\n",
            "Epoch 273/300\n",
            "7/7 [==============================] - 0s 8ms/step - loss: 0.1690 - accuracy: 0.9275 - val_loss: 0.2647 - val_accuracy: 0.8980\n",
            "Epoch 274/300\n",
            "7/7 [==============================] - 0s 10ms/step - loss: 0.1684 - accuracy: 0.9275 - val_loss: 0.2662 - val_accuracy: 0.8980\n",
            "Epoch 275/300\n",
            "7/7 [==============================] - 0s 9ms/step - loss: 0.1669 - accuracy: 0.9275 - val_loss: 0.2675 - val_accuracy: 0.8980\n",
            "Epoch 276/300\n",
            "7/7 [==============================] - 0s 7ms/step - loss: 0.1662 - accuracy: 0.9275 - val_loss: 0.2685 - val_accuracy: 0.8980\n",
            "Epoch 277/300\n",
            "7/7 [==============================] - 0s 11ms/step - loss: 0.1657 - accuracy: 0.9275 - val_loss: 0.2712 - val_accuracy: 0.8980\n",
            "Epoch 278/300\n",
            "7/7 [==============================] - 0s 7ms/step - loss: 0.1651 - accuracy: 0.9378 - val_loss: 0.2760 - val_accuracy: 0.8980\n",
            "Epoch 279/300\n",
            "7/7 [==============================] - 0s 8ms/step - loss: 0.1645 - accuracy: 0.9378 - val_loss: 0.2781 - val_accuracy: 0.8980\n",
            "Epoch 280/300\n",
            "7/7 [==============================] - 0s 10ms/step - loss: 0.1647 - accuracy: 0.9378 - val_loss: 0.2808 - val_accuracy: 0.8980\n",
            "Epoch 281/300\n",
            "7/7 [==============================] - 0s 8ms/step - loss: 0.1648 - accuracy: 0.9378 - val_loss: 0.2820 - val_accuracy: 0.8980\n",
            "Epoch 282/300\n",
            "7/7 [==============================] - 0s 10ms/step - loss: 0.1649 - accuracy: 0.9430 - val_loss: 0.2824 - val_accuracy: 0.8980\n",
            "Epoch 283/300\n",
            "7/7 [==============================] - 0s 9ms/step - loss: 0.1642 - accuracy: 0.9378 - val_loss: 0.2811 - val_accuracy: 0.8980\n",
            "Epoch 284/300\n",
            "7/7 [==============================] - 0s 9ms/step - loss: 0.1635 - accuracy: 0.9378 - val_loss: 0.2795 - val_accuracy: 0.8980\n",
            "Epoch 285/300\n",
            "7/7 [==============================] - 0s 10ms/step - loss: 0.1625 - accuracy: 0.9430 - val_loss: 0.2781 - val_accuracy: 0.8980\n",
            "Epoch 286/300\n",
            "7/7 [==============================] - 0s 10ms/step - loss: 0.1619 - accuracy: 0.9430 - val_loss: 0.2767 - val_accuracy: 0.8980\n",
            "Epoch 287/300\n",
            "7/7 [==============================] - 0s 8ms/step - loss: 0.1615 - accuracy: 0.9482 - val_loss: 0.2747 - val_accuracy: 0.8980\n",
            "Epoch 288/300\n",
            "7/7 [==============================] - 0s 11ms/step - loss: 0.1614 - accuracy: 0.9378 - val_loss: 0.2749 - val_accuracy: 0.8980\n",
            "Epoch 289/300\n",
            "7/7 [==============================] - 0s 10ms/step - loss: 0.1602 - accuracy: 0.9430 - val_loss: 0.2764 - val_accuracy: 0.8980\n",
            "Epoch 290/300\n",
            "7/7 [==============================] - 0s 12ms/step - loss: 0.1603 - accuracy: 0.9534 - val_loss: 0.2720 - val_accuracy: 0.8980\n",
            "Epoch 291/300\n",
            "7/7 [==============================] - 0s 8ms/step - loss: 0.1602 - accuracy: 0.9534 - val_loss: 0.2672 - val_accuracy: 0.8980\n",
            "Epoch 292/300\n",
            "7/7 [==============================] - 0s 9ms/step - loss: 0.1601 - accuracy: 0.9482 - val_loss: 0.2652 - val_accuracy: 0.8980\n",
            "Epoch 293/300\n",
            "7/7 [==============================] - 0s 8ms/step - loss: 0.1600 - accuracy: 0.9430 - val_loss: 0.2661 - val_accuracy: 0.8980\n",
            "Epoch 294/300\n",
            "7/7 [==============================] - 0s 9ms/step - loss: 0.1596 - accuracy: 0.9482 - val_loss: 0.2699 - val_accuracy: 0.8980\n",
            "Epoch 295/300\n",
            "7/7 [==============================] - 0s 11ms/step - loss: 0.1586 - accuracy: 0.9534 - val_loss: 0.2708 - val_accuracy: 0.8980\n",
            "Epoch 296/300\n",
            "7/7 [==============================] - 0s 11ms/step - loss: 0.1579 - accuracy: 0.9534 - val_loss: 0.2707 - val_accuracy: 0.8980\n",
            "Epoch 297/300\n",
            "7/7 [==============================] - 0s 11ms/step - loss: 0.1576 - accuracy: 0.9482 - val_loss: 0.2681 - val_accuracy: 0.8980\n",
            "Epoch 298/300\n",
            "7/7 [==============================] - 0s 11ms/step - loss: 0.1567 - accuracy: 0.9482 - val_loss: 0.2675 - val_accuracy: 0.8980\n",
            "Epoch 299/300\n",
            "7/7 [==============================] - 0s 10ms/step - loss: 0.1565 - accuracy: 0.9430 - val_loss: 0.2683 - val_accuracy: 0.8980\n",
            "Epoch 300/300\n",
            "7/7 [==============================] - 0s 12ms/step - loss: 0.1559 - accuracy: 0.9534 - val_loss: 0.2693 - val_accuracy: 0.8980\n"
          ]
        }
      ],
      "source": [
        "history = model.fit(train_X,\n",
        "                    train_y,\n",
        "                    epochs=300,\n",
        "                    batch_size=32,\n",
        "                    validation_split=0.2)"
      ]
    },
    {
      "cell_type": "markdown",
      "source": [
        "Next we plot the training and loss curves to see if ***overfitting*** is going on and if **early stopping** may be needed."
      ],
      "metadata": {
        "id": "fcSh9odtRzSX"
      }
    },
    {
      "cell_type": "code",
      "source": [
        "history_dict = history.history\n",
        "history_dict.keys()"
      ],
      "metadata": {
        "colab": {
          "base_uri": "https://localhost:8080/"
        },
        "id": "p507juxRR29_",
        "outputId": "e2a2d884-d01b-4633-e11b-ac95e8d50072"
      },
      "execution_count": 67,
      "outputs": [
        {
          "output_type": "execute_result",
          "data": {
            "text/plain": [
              "dict_keys(['loss', 'accuracy', 'val_loss', 'val_accuracy'])"
            ]
          },
          "metadata": {},
          "execution_count": 67
        }
      ]
    },
    {
      "cell_type": "code",
      "source": [
        "loss_values = history_dict[\"loss\"]\n",
        "val_loss_values = history_dict[\"val_loss\"]\n",
        "epochs = range(1, len(loss_values) + 1)\n",
        "plt.plot(epochs, loss_values, \"bo\", label=\"Training loss\")\n",
        "plt.plot(epochs, val_loss_values, \"b\", label=\"Validation loss\")\n",
        "plt.title(\"Training and validation loss\")\n",
        "plt.xlabel(\"Epochs\")\n",
        "plt.ylabel(\"Loss\")\n",
        "plt.legend()\n",
        "plt.show()"
      ],
      "metadata": {
        "colab": {
          "base_uri": "https://localhost:8080/",
          "height": 472
        },
        "id": "n4WU9GeVR6QW",
        "outputId": "4fbb3496-4b8c-4cfe-bf05-9929e287ae38"
      },
      "execution_count": 68,
      "outputs": [
        {
          "output_type": "display_data",
          "data": {
            "text/plain": [
              "<Figure size 640x480 with 1 Axes>"
            ],
            "image/png": "[encoded data removed]"
          },
          "metadata": {}
        }
      ]
    },
    {
      "cell_type": "markdown",
      "source": [
        "\n",
        "Let's look at the accuracy curves as well.\n",
        "\n"
      ],
      "metadata": {
        "id": "nqh87CoqVuNH"
      }
    },
    {
      "cell_type": "code",
      "source": [
        "plt.clf()\n",
        "acc = history_dict[\"accuracy\"]\n",
        "val_acc = history_dict[\"val_accuracy\"]\n",
        "plt.plot(epochs, acc, \"bo\", label=\"Training acc\")\n",
        "plt.plot(epochs, val_acc, \"b\", label=\"Validation acc\")\n",
        "plt.title(\"Training and validation accuracy\")\n",
        "plt.xlabel(\"Epochs\")\n",
        "plt.ylabel(\"Accuracy\")\n",
        "plt.legend()\n",
        "plt.show()"
      ],
      "metadata": {
        "colab": {
          "base_uri": "https://localhost:8080/",
          "height": 472
        },
        "id": "z-tzis2kSlw1",
        "outputId": "41974a91-b37a-40f9-8668-25817c6836c7"
      },
      "execution_count": 69,
      "outputs": [
        {
          "output_type": "display_data",
          "data": {
            "text/plain": [
              "<Figure size 640x480 with 1 Axes>"
            ],
            "image/png": "[encoded data removed]"
          },
          "metadata": {}
        }
      ]
    },
    {
      "cell_type": "markdown",
      "source": [
        "**There is some indication of overfitting.**\n",
        "\n",
        "The divergence between training and validation loss and accuracy prior to 300 epochs indicate some degree of overfitting. We could go back, re-initialize the model and train for fewer epochs as an example of **early stopping**.\n",
        "\n",
        "Before doing that, let's evaluate the model performance in its current form."
      ],
      "metadata": {
        "id": "bO7mShgiqJlo"
      }
    },
    {
      "cell_type": "markdown",
      "source": [
        "## Evaluate the model\n",
        "\n",
        "Let's see **how well the model does on the test set**.\n",
        "\n",
        "`model.evaluate` is a very handy function to calculate the performance of your model on any dataset."
      ],
      "metadata": {
        "id": "uWI1kI27RZun"
      }
    },
    {
      "cell_type": "code",
      "source": [
        "model.evaluate(test_X, test_y)"
      ],
      "metadata": {
        "colab": {
          "base_uri": "https://localhost:8080/"
        },
        "id": "PDyP_S4LRlb9",
        "outputId": "10f5baab-4fbc-4a13-c570-fecc28b8cf17"
      },
      "execution_count": 70,
      "outputs": [
        {
          "output_type": "stream",
          "name": "stdout",
          "text": [
            "2/2 [==============================] - 0s 11ms/step - loss: 0.4098 - accuracy: 0.8361\n"
          ]
        },
        {
          "output_type": "execute_result",
          "data": {
            "text/plain": [
              "[0.40976500511169434, 0.8360655903816223]"
            ]
          },
          "metadata": {},
          "execution_count": 70
        }
      ]
    },
    {
      "cell_type": "markdown",
      "source": [
        "To assess if this accuracy number is impressive, we can compare it the accuracy of a simple, baseline model.\n",
        "\n",
        "What's a reasonable baseline model?"
      ],
      "metadata": {
        "id": "leTkFFNdpSWD"
      }
    },
    {
      "cell_type": "code",
      "source": [
        "y.value_counts(normalize=True)"
      ],
      "metadata": {
        "colab": {
          "base_uri": "https://localhost:8080/"
        },
        "id": "b3pLMvVmphCC",
        "outputId": "f526b448-d96c-4ac3-bce1-249fb9e85995"
      },
      "execution_count": 71,
      "outputs": [
        {
          "output_type": "execute_result",
          "data": {
            "text/plain": [
              "0    0.726073\n",
              "1    0.273927\n",
              "Name: target, dtype: float64"
            ]
          },
          "metadata": {},
          "execution_count": 71
        }
      ]
    },
    {
      "cell_type": "markdown",
      "source": [
        "If we predict 0 for every point, the accuracy will be 72.6%. So the 83.6% accuracy from our model is a substantial improvement!\n"
      ],
      "metadata": {
        "id": "3g6LK65Xpz3r"
      }
    },
    {
      "cell_type": "markdown",
      "metadata": {
        "id": "F4GzDJ1I8pgw"
      },
      "source": [
        "## Predicting new data (i.e., *inference*) with the model\n",
        "\n",
        "The simple approach we followed in this colab has a key shortcoming. We did the pre-processing - the one-hot encoding and normalization - *outside* the model. This means that we have to remember what pre-processing we did and carry that information (e.g., the mean and variance of each variable) along with the model to correctly use the model in the future.\n",
        "\n",
        "An elegant way to avoid this issue is to use [Keras preprocessing layers](https://keras.io/guides/preprocessing_layers/). Check out this [colab](https://colab.research.google.com/github/keras-team/keras-io/blob/master/examples/structured_data/ipynb/structured_data_classification_from_scratch.ipynb) which shows how to solve the same heart-disease prediction problem above using preprocessing layers.\n"
      ]
    }
  ],
  "metadata": {
    "colab": {
      "provenance": [],
      "include_colab_link": true
    },
    "kernelspec": {
      "display_name": "Python 3",
      "language": "python",
      "name": "python3"
    },
    "language_info": {
      "codemirror_mode": {
        "name": "ipython",
        "version": 3
      },
      "file_extension": ".py",
      "mimetype": "text/x-python",
      "name": "python",
      "nbconvert_exporter": "python",
      "pygments_lexer": "ipython3",
      "version": "3.7.0"
    },
    "accelerator": "GPU"
  },
  "nbformat": 4,
  "nbformat_minor": 0
}